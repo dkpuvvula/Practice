{
  "nbformat": 4,
  "nbformat_minor": 0,
  "metadata": {
    "colab": {
      "name": "codebasics.ipynb",
      "provenance": [],
      "collapsed_sections": []
    },
    "kernelspec": {
      "name": "python3",
      "display_name": "Python 3"
    },
    "language_info": {
      "name": "python"
    }
  },
  "cells": [
    {
      "cell_type": "code",
      "execution_count": null,
      "metadata": {
        "id": "0mi5bO3mrIri",
        "colab": {
          "base_uri": "https://localhost:8080/",
          "height": 307
        },
        "outputId": "e6f6485f-8318-46e0-b4e6-a669513ef3f2"
      },
      "outputs": [
        {
          "output_type": "execute_result",
          "data": {
            "text/plain": [
              "[<matplotlib.lines.Line2D at 0x7f6d7417b950>]"
            ]
          },
          "metadata": {},
          "execution_count": 22
        },
        {
          "output_type": "display_data",
          "data": {
            "text/plain": [
              "<Figure size 432x288 with 1 Axes>"
            ],
            "image/png": "[encoded data removed]"
          },
          "metadata": {
            "needs_background": "light"
          }
        }
      ],
      "source": [
        "#Linear Regression With One Variable\n",
        "import pandas as pd\n",
        "import matplotlib.pyplot as plt\n",
        "from sklearn import linear_model\n",
        "df = pd.read_csv(\"https://raw.githubusercontent.com/codebasics/py/master/ML/1_linear_reg/homeprices.csv\")\n",
        "# plt.xlabel('area')\n",
        "# plt.ylabel('price')\n",
        "plt.scatter(df.area, df.price,color = 'red',marker = '+')\n",
        "x_df = df.drop('price',axis = 'columns')\n",
        "x_df\n",
        "y_df = df.drop('area',axis = 'columns')\n",
        "regression = linear_model.LinearRegression()\n",
        "regression.fit(x_df,y_df)\n",
        "f = pd.read_csv('https://raw.githubusercontent.com/codebasics/py/master/ML/1_linear_reg/areas.csv')\n",
        "m= regression.predict(f)\n",
        "plt.xlabel('area')\n",
        "plt.ylabel('price')\n",
        "plt.scatter(f.area,m)\n",
        "plt.plot(f.area,m)"
      ]
    },
    {
      "cell_type": "code",
      "source": [
        "#Linear Regression With One Variable (exercise)\n",
        "import pandas as pd\n",
        "import matplotlib.pyplot as plot\n",
        "from sklearn import linear_model\n",
        "df = pd.read_csv('https://raw.githubusercontent.com/codebasics/py/master/ML/1_linear_reg/Exercise/canada_per_capita_income.csv')\n",
        "df =df.rename(columns = {'per capita income (US$)':'income'})\n",
        "plt.xlabel('year')\n",
        "plt.ylabel('income')\n",
        "x_df = df.drop('income',axis = 'columns')\n",
        "y_df = df.drop('year', axis = 'columns')\n",
        "plt.scatter(df.year,df.income,color ='red',marker = '+')\n",
        "plt.plot(df.year,df.income)\n",
        "regression = linear_model.LinearRegression()\n",
        "regression.fit(x_df,y_df)\n",
        "regression.predict([['2020']])\n",
        "\n"
      ],
      "metadata": {
        "id": "54CUJ6CmspUc"
      },
      "execution_count": null,
      "outputs": []
    },
    {
      "cell_type": "code",
      "source": [
        "#Linear Regression Multiple Variables\n",
        "import pandas as pd\n",
        "from sklearn import linear_model\n",
        "import matplotlib.pyplot as plt\n",
        "df = pd.read_csv('https://raw.githubusercontent.com/codebasics/py/master/ML/2_linear_reg_multivariate/homeprices.csv')\n",
        "df.bedrooms = df.bedrooms.fillna(df.bedrooms.median())\n",
        "regression = linear_model.LinearRegression()\n",
        "regression.fit(df.drop('price',axis ='columns'),df.price)\n",
        "regression.predict([[3000, 3, 40]])\n"
      ],
      "metadata": {
        "id": "uJeV2CdfuVrp"
      },
      "execution_count": null,
      "outputs": []
    },
    {
      "cell_type": "code",
      "source": [
        "#Linear Regression Multiple Variables (exercise)\n",
        "import pandas as pd\n",
        "!pip install word2number\n",
        "import numpy as np\n",
        "from sklearn import linear_model\n",
        "import matplotlib.pyplot as plt\n",
        "from word2number import w2n\n",
        "df = pd.read_csv('https://raw.githubusercontent.com/codebasics/py/master/ML/2_linear_reg_multivariate/Exercise/hiring.csv')\n",
        "df.rename(columns={'test_score(out of 10)':'test','interview_score(out of 10)':'interview','salary($)' : 'salary'},inplace = True)\n",
        "df.test.fillna(df.test.mean(),inplace = True)\n",
        "df.experience.fillna(\"zero\",inplace = True)\n",
        "#df.experience = df.experience.apply(w2n.word_to_num)\n",
        "df.experience = df.experience.apply(w2n.word_to_num)\n",
        "regression = linear_model.LinearRegression()\n",
        "regression.fit(df.drop('salary',axis = 'columns'),df.salary)\n",
        "regression.predict([[2,9,6]])"
      ],
      "metadata": {
        "id": "-THX2klThVeq"
      },
      "execution_count": null,
      "outputs": []
    },
    {
      "cell_type": "markdown",
      "source": [
        "Dummy Variable Trap\n",
        "\n",
        "When you can derive one variable from other variables, they are known to be multi-colinear. Here if you know values of california and georgia then you can easily infer value of new jersey state, i.e. california=0 and georgia=0. There for these state variables are called to be multi-colinear. In this situation linear regression won't work as expected. Hence you need to drop one column.\n",
        "\n",
        "NOTE: sklearn library takes care of dummy variable trap hence even if you don't drop one of the state columns it is going to work, however we should make a habit of taking care of dummy variable trap ourselves just in case library that yo`u are using is not handling this for you`"
      ],
      "metadata": {
        "id": "DmxRbxHNt1jf"
      }
    },
    {
      "cell_type": "code",
      "source": [
        "#Categorical Variables \n",
        "import pandas as pd\n",
        "import matplotlib.pyplot as plt\n",
        "from sklearn import linear_model\n",
        "\n",
        "df = pd.read_csv('https://raw.githubusercontent.com/codebasics/py/master/ML/5_one_hot_encoding/homeprices.csv')\n",
        "dummies = pd.get_dummies(df.town)\n",
        "df = pd.concat([df,dummies], axis = 'columns')\n",
        "final = df.drop(['town'], axis = 'columns')\n",
        "final = final.drop('west windsor', axis = 'columns')\n",
        "regression = linear_model.LinearRegression()\n",
        "regression.fit(final.drop('price',axis='columns'),final.price)\n",
        "regression.score(final.drop('price',axis='columns'),final.price)\n",
        "regression.predict([[3400,0,0]])\n",
        "\n",
        "#One Hot Encoding\n",
        "\n",
        "\n"
      ],
      "metadata": {
        "cellView": "code",
        "id": "Rhei-rmxnkWN"
      },
      "execution_count": null,
      "outputs": []
    },
    {
      "cell_type": "code",
      "source": [
        "#Categorical Variables \n",
        "import pandas as pd\n",
        "df = pd.read_csv('https://raw.githubusercontent.com/codebasics/py/master/ML/5_one_hot_encoding/Exercise/carprices.csv')\n",
        "dummies = pd.get_dummies(df['Car Model'])\n",
        "final = pd.concat([df,dummies],axis = 'columns')\n",
        "final = final.drop(['Car Model','Mercedez Benz C class'], axis = 'columns')\n",
        "from sklearn import linear_model\n",
        "regression = linear_model.LinearRegression()\n",
        "regression.fit(final.drop('Sell Price($)',axis = 'columns'),final['Sell Price($)'])\n",
        "regression.score(final.drop('Sell Price($)',axis = 'columns'),final['Sell Price($)'])\n",
        "#regression.predict([[45000,4,0,0]])\n"
      ],
      "metadata": {
        "colab": {
          "base_uri": "https://localhost:8080/"
        },
        "id": "UzZhJubtsEO9",
        "outputId": "d004a13f-0d8d-4cfe-d6dd-4995e6eb4601"
      },
      "execution_count": null,
      "outputs": [
        {
          "output_type": "execute_result",
          "data": {
            "text/plain": [
              "0.9417050937281083"
            ]
          },
          "metadata": {},
          "execution_count": 155
        }
      ]
    },
    {
      "cell_type": "code",
      "source": [
        "# Training And Testing Available Data\n",
        "import pandas as pd\n",
        "import matplotlib.pyplot as plt\n",
        "from sklearn.model_selection import train_test_split\n",
        "from sklearn import linear_model\n",
        "\n",
        "df = pd.read_csv('https://raw.githubusercontent.com/codebasics/py/master/ML/6_train_test_split/carprices.csv')\n",
        "\n",
        "# plt.xlabel('Mileage')\n",
        "# plt.ylabel('price')\n",
        "df.rename(columns = {'Sell Price($)':'price'},inplace = 'True')\n",
        "#df =df.rename(columns = {'per capita income (US$)':'income'})\n",
        "#plt.scatter(df['Age(yrs)'],df.price)\n",
        "\n",
        "#plt.scatter(df.year,df.income,color ='red',marker = '+')\n",
        "df.head()\n",
        "x = df.drop('price',axis = 'columns')\n",
        "y =df.price\n",
        "x_train,x_test,y_train,y_test = train_test_split(x,y,train_size = 0.9)\n",
        "regression = linear_model.LinearRegression()\n",
        "regression.fit(x_train,y_train)\n",
        "regression.predict(x_test)\n",
        "regression.score(x_test,y_test)\n",
        "#train_test_split"
      ],
      "metadata": {
        "id": "7xwBqOiY2eWQ",
        "colab": {
          "base_uri": "https://localhost:8080/"
        },
        "outputId": "558c8e3b-834c-49dd-ee72-a4a4d01e82f5"
      },
      "execution_count": null,
      "outputs": [
        {
          "output_type": "execute_result",
          "data": {
            "text/plain": [
              "0.6411573632698375"
            ]
          },
          "metadata": {},
          "execution_count": 51
        }
      ]
    },
    {
      "cell_type": "code",
      "source": [
        "# logistic regression binary classification\n",
        "import pandas as pd\n",
        "from sklearn import linear_model\n",
        "from sklearn.linear_model import LogisticRegression\n",
        "from sklearn.model_selection import train_test_split\n",
        "import matplotlib.pyplot as plt\n",
        "%matplotlib inline\n",
        "\n",
        "df = pd.read_csv('https://raw.githubusercontent.com/codebasics/py/master/ML/7_logistic_reg/insurance_data.csv')\n",
        "df.head()\n",
        "# plt.xlabel('age')\n",
        "# plt.ylabel('insurance')\n",
        "# plt.scatter(df.age,df.bought_insurance)\n",
        "x = df.drop('bought_insurance',axis = 'columns')\n",
        "x_train,x_test,y_train,y_test = train_test_split(x,df.bought_insurance,test_size = 0.2)\n",
        "regression = LogisticRegression()\n",
        "regression.fit(x_train,y_train)\n",
        "regression.predict(x_test)\n",
        "regression.score(x_test,y_test)\n"
      ],
      "metadata": {
        "colab": {
          "base_uri": "https://localhost:8080/"
        },
        "id": "IfZN_QohkZZS",
        "outputId": "147a505c-30e5-4809-fc54-2e9c72960724"
      },
      "execution_count": null,
      "outputs": [
        {
          "output_type": "execute_result",
          "data": {
            "text/plain": [
              "0.8333333333333334"
            ]
          },
          "metadata": {},
          "execution_count": 93
        }
      ]
    },
    {
      "cell_type": "code",
      "source": [
        "# logistic regression binary classification exercise\n",
        "import pandas as pd\n",
        "from sklearn.linear_model import LogisticRegression\n",
        "import matplotlib.pyplot as plt\n",
        "from sklearn.model_selection import train_test_split\n",
        "\n",
        "df = pd.read_csv('https://raw.githubusercontent.com/codebasics/py/master/ML/7_logistic_reg/Exercise/HR_comma_sep.csv')\n",
        "df.head()\n",
        "# plt.xlabel('satisafction')\n",
        "# plt.ylabel('left')\n",
        "# plt.scatter(df['satisfaction_level'],df.average_montly_hours)\n",
        "# employees left from the company\n",
        "left = df[df.left==1]\n",
        "retention = df[df.left ==0]\n",
        "k = df.groupby('left').mean()\n",
        "#pd.crosstab(df.time_spend_company,df.left).plot(kind='bar')\n",
        "df.head()\n",
        "sub = df[['satisfaction_level','last_evaluation','time_spend_company','promotion_last_5years','salary']]\n",
        "sub.head()\n",
        "s = pd.get_dummies(sub.salary,prefix= 'salary')\n",
        "sub = pd.concat([sub,s], axis = 'columns')\n",
        "sub.head()\n",
        "sub =sub.drop('salary',axis = 'columns')\n",
        "x_train,x_test,y_train,y_test = train_test_split(sub,df.left,test_size = 0.2)\n",
        "regression = LogisticRegression()\n",
        "\n",
        "regression.fit(x_train,y_train)\n",
        "regression.predict(x_test)\n",
        "regression.score(x_test,y_test)\n",
        "\n",
        "\n",
        "#pd.crosstab(df.salary,df.last_evaluation).plot(kind='density')"
      ],
      "metadata": {
        "colab": {
          "base_uri": "https://localhost:8080/"
        },
        "id": "C_N9rcb3y34t",
        "outputId": "c5debf01-120d-408f-e50b-64e7192fbdaa"
      },
      "execution_count": null,
      "outputs": [
        {
          "output_type": "execute_result",
          "data": {
            "text/plain": [
              "0.7613333333333333"
            ]
          },
          "metadata": {},
          "execution_count": 64
        }
      ]
    },
    {
      "cell_type": "code",
      "source": [
        "#  logistic regression multi class classification\n",
        "import pandas as pd\n",
        "from sklearn.model_selection import train_test_split\n",
        "from sklearn.linear_model import LogisticRegression\n",
        "import matplotlib.pyplot as plt\n",
        "from sklearn.datasets import load_digits\n",
        "df = load_digits()\n",
        "#dir(df)\n",
        "#plt.matshow(df.images[0])\n",
        "x_train, x_test, y_train, y_test = train_test_split(df.data,df.target,test_size = 0.3)\n",
        "regression = LogisticRegression()\n",
        "regression.fit(x_train,y_train)\n",
        "predicted = regression.predict(x_test)\n",
        "regression.score(x_test,y_test)\n",
        "from sklearn.metrics import confusion_matrix\n",
        "cm = confusion_matrix(y_test,predicted)\n",
        "cm\n",
        "import seaborn as sn\n",
        "plt.figure(figsize = (10,7))\n",
        "\n",
        "sn.heatmap(cm,annot = True)\n",
        "plt.xlabel('predict')\n",
        "plt.ylabel('True')\n"
      ],
      "metadata": {
        "id": "myIEdGXq4jjC"
      },
      "execution_count": null,
      "outputs": []
    },
    {
      "cell_type": "code",
      "source": [
        "# logistic regression multi class classification exercise\n",
        "import pandas as pd\n",
        "from sklearn.model_selection import train_test_split\n",
        "from sklearn.linear_model import LogisticRegression\n",
        "import matplotlib.pyplot as plt\n",
        "from sklearn.datasets import load_iris\n",
        "df = load_iris()\n",
        "x_train, x_test, y_train, y_test = train_test_split(df.data,df.target,test_size = 0.3)\n",
        "regression = LogisticRegression()\n",
        "regression.fit(x_train,y_train)\n",
        "predicted = regression.predict(x_test)\n",
        "regression.score(x_test,y_test)\n",
        "from sklearn.metrics import confusion_matrix\n",
        "cm = confusion_matrix(y_test,predicted)\n",
        "cm\n",
        "# confusion matrix helps us where did our model made wrong predictions \n",
        "# import seaborn as sn\n",
        "# plt.figure(figsize = (10,7))\n",
        "\n",
        "# sn.heatmap(cm,annot = True)\n",
        "# plt.xlabel('predict')\n",
        "# plt.ylabel('True')\n"
      ],
      "metadata": {
        "id": "_Wr9BMIZ4kSp",
        "colab": {
          "base_uri": "https://localhost:8080/"
        },
        "outputId": "800a344d-2a65-45bd-c09a-2d9807542844"
      },
      "execution_count": null,
      "outputs": [
        {
          "output_type": "execute_result",
          "data": {
            "text/plain": [
              "array([[15,  0,  0],\n",
              "       [ 0, 14,  2],\n",
              "       [ 0,  0, 14]])"
            ]
          },
          "metadata": {},
          "execution_count": 16
        }
      ]
    },
    {
      "cell_type": "code",
      "source": [
        "#Decision Trees classsifier\n",
        "import pandas as pd\n",
        "import matplotlib.pyplot as plt\n",
        "from sklearn.model_selection import train_test_split\n",
        "from sklearn import tree\n",
        "from sklearn.preprocessing import LabelEncoder\n",
        "df = pd.read_csv('https://raw.githubusercontent.com/codebasics/py/master/ML/9_decision_tree/salaries.csv')\n",
        "\n",
        "# plt.scatter(df.company,df.salary_more_then_100k)\n",
        "# plt.plot(df.company,df.salary_more_then_100k)\n",
        "df = df.rename(columns={'salary_more_then_100k' : 'salary'})\n",
        "df.head()\n",
        "le_company = LabelEncoder()\n",
        "le_job = LabelEncoder()\n",
        "le_degree = LabelEncoder()\n",
        "df['n_company'] = le_company.fit_transform(df.company)\n",
        "df['n_job'] = le_job.fit_transform(df.job)\n",
        "df['degree'] = le_degree.fit_transform(df.degree)\n",
        "\n",
        "df = df.drop(['company','job','degree'],axis = 'columns')\n",
        "input = df.drop('salary',axis = 'columns')\n",
        "\n",
        "\n",
        "#x_train,x_test,y_train,y_test = train_test_split(input,df.salary,test_size= 0.3)\n",
        "#model.fit(x_train,y_train)\n",
        "#model.predict(x_test)\n",
        "#model.score(x_test,y_test)\n",
        "model = tree.DecisionTreeClassifier()\n",
        "\n",
        "\n",
        "model.fit(input,df.salary)\n",
        "\n",
        "model.score(input,df.salary)\n",
        "\n",
        "\n"
      ],
      "metadata": {
        "id": "f-wfADxK_CHT",
        "colab": {
          "base_uri": "https://localhost:8080/",
          "height": 551
        },
        "outputId": "c7329bb3-ea5a-41c7-b04a-610a6390f29a"
      },
      "execution_count": null,
      "outputs": [
        {
          "output_type": "execute_result",
          "data": {
            "text/plain": [
              "    salary  n_company  n_job\n",
              "0        0          2      2\n",
              "1        0          2      2\n",
              "2        1          2      0\n",
              "3        1          2      0\n",
              "4        0          2      1\n",
              "5        1          2      1\n",
              "6        0          0      2\n",
              "7        0          0      1\n",
              "8        0          0      0\n",
              "9        1          0      0\n",
              "10       1          1      2\n",
              "11       1          1      2\n",
              "12       1          1      0\n",
              "13       1          1      0\n",
              "14       1          1      1\n",
              "15       1          1      1"
            ],
            "text/html": [
              "\n",
              "  <div id=\"df-15a320f6-6b14-4421-ac6b-96416e6e6baf\">\n",
              "    <div class=\"colab-df-container\">\n",
              "      <div>\n",
              "<style scoped>\n",
              "    .dataframe tbody tr th:only-of-type {\n",
              "        vertical-align: middle;\n",
              "    }\n",
              "\n",
              "    .dataframe tbody tr th {\n",
              "        vertical-align: top;\n",
              "    }\n",
              "\n",
              "    .dataframe thead th {\n",
              "        text-align: right;\n",
              "    }\n",
              "</style>\n",
              "<table border=\"1\" class=\"dataframe\">\n",
              "  <thead>\n",
              "    <tr style=\"text-align: right;\">\n",
              "      <th></th>\n",
              "      <th>salary</th>\n",
              "      <th>n_company</th>\n",
              "      <th>n_job</th>\n",
              "    </tr>\n",
              "  </thead>\n",
              "  <tbody>\n",
              "    <tr>\n",
              "      <th>0</th>\n",
              "      <td>0</td>\n",
              "      <td>2</td>\n",
              "      <td>2</td>\n",
              "    </tr>\n",
              "    <tr>\n",
              "      <th>1</th>\n",
              "      <td>0</td>\n",
              "      <td>2</td>\n",
              "      <td>2</td>\n",
              "    </tr>\n",
              "    <tr>\n",
              "      <th>2</th>\n",
              "      <td>1</td>\n",
              "      <td>2</td>\n",
              "      <td>0</td>\n",
              "    </tr>\n",
              "    <tr>\n",
              "      <th>3</th>\n",
              "      <td>1</td>\n",
              "      <td>2</td>\n",
              "      <td>0</td>\n",
              "    </tr>\n",
              "    <tr>\n",
              "      <th>4</th>\n",
              "      <td>0</td>\n",
              "      <td>2</td>\n",
              "      <td>1</td>\n",
              "    </tr>\n",
              "    <tr>\n",
              "      <th>5</th>\n",
              "      <td>1</td>\n",
              "      <td>2</td>\n",
              "      <td>1</td>\n",
              "    </tr>\n",
              "    <tr>\n",
              "      <th>6</th>\n",
              "      <td>0</td>\n",
              "      <td>0</td>\n",
              "      <td>2</td>\n",
              "    </tr>\n",
              "    <tr>\n",
              "      <th>7</th>\n",
              "      <td>0</td>\n",
              "      <td>0</td>\n",
              "      <td>1</td>\n",
              "    </tr>\n",
              "    <tr>\n",
              "      <th>8</th>\n",
              "      <td>0</td>\n",
              "      <td>0</td>\n",
              "      <td>0</td>\n",
              "    </tr>\n",
              "    <tr>\n",
              "      <th>9</th>\n",
              "      <td>1</td>\n",
              "      <td>0</td>\n",
              "      <td>0</td>\n",
              "    </tr>\n",
              "    <tr>\n",
              "      <th>10</th>\n",
              "      <td>1</td>\n",
              "      <td>1</td>\n",
              "      <td>2</td>\n",
              "    </tr>\n",
              "    <tr>\n",
              "      <th>11</th>\n",
              "      <td>1</td>\n",
              "      <td>1</td>\n",
              "      <td>2</td>\n",
              "    </tr>\n",
              "    <tr>\n",
              "      <th>12</th>\n",
              "      <td>1</td>\n",
              "      <td>1</td>\n",
              "      <td>0</td>\n",
              "    </tr>\n",
              "    <tr>\n",
              "      <th>13</th>\n",
              "      <td>1</td>\n",
              "      <td>1</td>\n",
              "      <td>0</td>\n",
              "    </tr>\n",
              "    <tr>\n",
              "      <th>14</th>\n",
              "      <td>1</td>\n",
              "      <td>1</td>\n",
              "      <td>1</td>\n",
              "    </tr>\n",
              "    <tr>\n",
              "      <th>15</th>\n",
              "      <td>1</td>\n",
              "      <td>1</td>\n",
              "      <td>1</td>\n",
              "    </tr>\n",
              "  </tbody>\n",
              "</table>\n",
              "</div>\n",
              "      <button class=\"colab-df-convert\" onclick=\"convertToInteractive('df-15a320f6-6b14-4421-ac6b-96416e6e6baf')\"\n",
              "              title=\"Convert this dataframe to an interactive table.\"\n",
              "              style=\"display:none;\">\n",
              "        \n",
              "  <svg xmlns=\"http://www.w3.org/2000/svg\" height=\"24px\"viewBox=\"0 0 24 24\"\n",
              "       width=\"24px\">\n",
              "    <path d=\"M0 0h24v24H0V0z\" fill=\"none\"/>\n",
              "    <path d=\"M18.56 5.44l.94 2.06.94-2.06 2.06-.94-2.06-.94-.94-2.06-.94 2.06-2.06.94zm-11 1L8.5 8.5l.94-2.06 2.06-.94-2.06-.94L8.5 2.5l-.94 2.06-2.06.94zm10 10l.94 2.06.94-2.06 2.06-.94-2.06-.94-.94-2.06-.94 2.06-2.06.94z\"/><path d=\"M17.41 7.96l-1.37-1.37c-.4-.4-.92-.59-1.43-.59-.52 0-1.04.2-1.43.59L10.3 9.45l-7.72 7.72c-.78.78-.78 2.05 0 2.83L4 21.41c.39.39.9.59 1.41.59.51 0 1.02-.2 1.41-.59l7.78-7.78 2.81-2.81c.8-.78.8-2.07 0-2.86zM5.41 20L4 18.59l7.72-7.72 1.47 1.35L5.41 20z\"/>\n",
              "  </svg>\n",
              "      </button>\n",
              "      \n",
              "  <style>\n",
              "    .colab-df-container {\n",
              "      display:flex;\n",
              "      flex-wrap:wrap;\n",
              "      gap: 12px;\n",
              "    }\n",
              "\n",
              "    .colab-df-convert {\n",
              "      background-color: #E8F0FE;\n",
              "      border: none;\n",
              "      border-radius: 50%;\n",
              "      cursor: pointer;\n",
              "      display: none;\n",
              "      fill: #1967D2;\n",
              "      height: 32px;\n",
              "      padding: 0 0 0 0;\n",
              "      width: 32px;\n",
              "    }\n",
              "\n",
              "    .colab-df-convert:hover {\n",
              "      background-color: #E2EBFA;\n",
              "      box-shadow: 0px 1px 2px rgba(60, 64, 67, 0.3), 0px 1px 3px 1px rgba(60, 64, 67, 0.15);\n",
              "      fill: #174EA6;\n",
              "    }\n",
              "\n",
              "    [theme=dark] .colab-df-convert {\n",
              "      background-color: #3B4455;\n",
              "      fill: #D2E3FC;\n",
              "    }\n",
              "\n",
              "    [theme=dark] .colab-df-convert:hover {\n",
              "      background-color: #434B5C;\n",
              "      box-shadow: 0px 1px 3px 1px rgba(0, 0, 0, 0.15);\n",
              "      filter: drop-shadow(0px 1px 2px rgba(0, 0, 0, 0.3));\n",
              "      fill: #FFFFFF;\n",
              "    }\n",
              "  </style>\n",
              "\n",
              "      <script>\n",
              "        const buttonEl =\n",
              "          document.querySelector('#df-15a320f6-6b14-4421-ac6b-96416e6e6baf button.colab-df-convert');\n",
              "        buttonEl.style.display =\n",
              "          google.colab.kernel.accessAllowed ? 'block' : 'none';\n",
              "\n",
              "        async function convertToInteractive(key) {\n",
              "          const element = document.querySelector('#df-15a320f6-6b14-4421-ac6b-96416e6e6baf');\n",
              "          const dataTable =\n",
              "            await google.colab.kernel.invokeFunction('convertToInteractive',\n",
              "                                                     [key], {});\n",
              "          if (!dataTable) return;\n",
              "\n",
              "          const docLinkHtml = 'Like what you see? Visit the ' +\n",
              "            '<a target=\"_blank\" href=https://colab.research.google.com/notebooks/data_table.ipynb>data table notebook</a>'\n",
              "            + ' to learn more about interactive tables.';\n",
              "          element.innerHTML = '';\n",
              "          dataTable['output_type'] = 'display_data';\n",
              "          await google.colab.output.renderOutput(dataTable, element);\n",
              "          const docLink = document.createElement('div');\n",
              "          docLink.innerHTML = docLinkHtml;\n",
              "          element.appendChild(docLink);\n",
              "        }\n",
              "      </script>\n",
              "    </div>\n",
              "  </div>\n",
              "  "
            ]
          },
          "metadata": {},
          "execution_count": 7
        }
      ]
    },
    {
      "cell_type": "code",
      "source": [
        "#Decision Trees classsifier exercise\n",
        "import pandas as pd\n",
        "import matplotlib.pyplot as plt\n",
        "df = pd.read_csv('https://raw.githubusercontent.com/codebasics/py/master/ML/9_decision_tree/Exercise/titanic.csv')\n",
        "df.head()\n",
        "df.drop(['PassengerId','Name','SibSp','Parch','Ticket','Cabin','Embarked'],axis='columns',inplace=True)\n",
        "inputs = df.drop('Survived',axis='columns')\n",
        "target = df.Survived\n",
        "inputs.Sex = inputs.Sex.map({'male': 1, 'female': 2})\n",
        "inputs.Age = inputs.Age.fillna(inputs.Age.mean())\n",
        "from sklearn.model_selection import train_test_split\n",
        "X_train, X_test, y_train, y_test = train_test_split(inputs,target,test_size=0.2)\n",
        "from sklearn import tree\n",
        "model = tree.DecisionTreeClassifier()\n",
        "model.fit(X_train,y_train)\n",
        "model.score(X_test,y_test)\n"
      ],
      "metadata": {
        "colab": {
          "base_uri": "https://localhost:8080/"
        },
        "id": "mWZBli-Kp3i_",
        "outputId": "386f5c3e-5965-4e5f-8b73-b753a313822e"
      },
      "execution_count": null,
      "outputs": [
        {
          "output_type": "execute_result",
          "data": {
            "text/plain": [
              "0.8212290502793296"
            ]
          },
          "metadata": {},
          "execution_count": 64
        }
      ]
    },
    {
      "cell_type": "code",
      "source": [
        "#svm \n",
        "from sklearn.datasets import load_iris\n",
        "import pandas as pd\n",
        "import matplotlib.pyplot as plt\n",
        "df = load_iris()\n",
        "df.data\n",
        "df.feature_names\n",
        "data = pd.DataFrame(df.data,columns=df.feature_names)\n",
        "data['target'] = df.target\n",
        "data[data.target==1].head()\n",
        "data['flowernames'] = data.target.apply(lambda x: df.target_names[x])\n",
        "x = data.drop(['target','flowernames'],axis = 'columns')\n",
        "df0 = x[:50]\n",
        "df1 = x[50:100]\n",
        "df2 = x[100:150]\n",
        "plt.scatter(df0['sepal length (cm)'],df0['sepal width (cm)'],color = 'blue',marker = '*')\n",
        "#plt.scatter(df1['sepal length (cm)'],df1['sepal width (cm)'],color = 'red',marker = '+')\n",
        "plt.scatter(df2['sepal length (cm)'],df2['sepal width (cm)'],color = 'green',marker = '.')\n",
        "from sklearn.model_selection import train_test_split\n",
        "y = data.target\n",
        "x_train,x_test,y_train,y_test = train_test_split(x,y,test_size = 0.2)\n",
        "from sklearn.svm import SVC\n",
        "model = SVC(kernel='linear')#kernal,gamma,regularization\n",
        "model.fit(x_train,y_train)\n",
        "model.score(x_test,y_test)\n"
      ],
      "metadata": {
        "id": "1_rXJNCuyCI1",
        "colab": {
          "base_uri": "https://localhost:8080/",
          "height": 285
        },
        "outputId": "7074b930-e6eb-460f-d548-ff50de4532b8"
      },
      "execution_count": null,
      "outputs": [
        {
          "output_type": "execute_result",
          "data": {
            "text/plain": [
              "0.9333333333333333"
            ]
          },
          "metadata": {},
          "execution_count": 1
        },
        {
          "output_type": "display_data",
          "data": {
            "text/plain": [
              "<Figure size 432x288 with 1 Axes>"
            ],
            "image/png": "[encoded data removed]"
          },
          "metadata": {
            "needs_background": "light"
          }
        }
      ]
    },
    {
      "cell_type": "code",
      "source": [
        "#svm example\n",
        "from sklearn.datasets import load_digits\n",
        "import pandas as pd\n",
        "import matplotlib.pyplot as plt\n",
        "\n",
        "df = load_digits()\n",
        "\n",
        "#plt.matshow(df.images[0])\n",
        "dir(df)\n",
        "data = pd.DataFrame(df.data)\n",
        "data.head()\n",
        "from sklearn.model_selection import train_test_split\n",
        "x_train,x_test,y_train,y_test = train_test_split(data,df.target,test_size=0.20)\n",
        "from sklearn.svm import SVC\n",
        "model = SVC(kernel = 'rbf',C = 1)\n",
        "model.fit(x_train,y_train)\n",
        "model.score(x_test,y_test)\n",
        "\n",
        "\n",
        "\n",
        "\n",
        "\n",
        "\n",
        "\n",
        "\n",
        "\n",
        "\n"
      ],
      "metadata": {
        "colab": {
          "base_uri": "https://localhost:8080/"
        },
        "id": "AmMvix07J0mn",
        "outputId": "ed81bb0f-d39f-4f49-c552-82127367e7bc"
      },
      "execution_count": null,
      "outputs": [
        {
          "output_type": "execute_result",
          "data": {
            "text/plain": [
              "0.9916666666666667"
            ]
          },
          "metadata": {},
          "execution_count": 42
        }
      ]
    },
    {
      "cell_type": "code",
      "source": [
        "#random forest trees\n",
        "import pandas as pd\n",
        "from sklearn.datasets import load_digits,load_iris\n",
        "from sklearn.ensemble import RandomForestClassifier\n",
        "import matplotlib.pyplot as plt\n",
        "#df = load_digits()\n",
        "df = load_iris()\n",
        "\n",
        "dir(df)\n",
        "from sklearn.model_selection import train_test_split\n",
        "x_train, x_test, y_train, y_test = train_test_split(df.data,df.target,test_size = 0.2)\n",
        "dir(df)\n",
        "# model = RandomForestClassifier(n_estimators=1)\n",
        "# model.fit(x_train, y_train)\n",
        "# model.score(x_test,y_test)\n",
        "# plt.imshow(df.data[0][0])\n",
        "\n"
      ],
      "metadata": {
        "colab": {
          "base_uri": "https://localhost:8080/"
        },
        "id": "AhqNqrFQZhc5",
        "outputId": "977974db-ddeb-40e0-be1f-7a2eeade8ecb"
      },
      "execution_count": null,
      "outputs": [
        {
          "output_type": "execute_result",
          "data": {
            "text/plain": [
              "['DESCR',\n",
              " 'data',\n",
              " 'data_module',\n",
              " 'feature_names',\n",
              " 'filename',\n",
              " 'frame',\n",
              " 'target',\n",
              " 'target_names']"
            ]
          },
          "metadata": {},
          "execution_count": 31
        }
      ]
    },
    {
      "cell_type": "code",
      "source": [
        "#k fold cross validation\n",
        "import pandas as pd\n",
        "from sklearn.model_selection import train_test_split\n",
        "from sklearn.datasets import load_digits,load_iris\n",
        "from sklearn.ensemble import RandomForestClassifier\n",
        "from sklearn.linear_model import LogisticRegression\n",
        "from sklearn.linear_model import LinearRegression\n",
        "from sklearn.svm import SVC\n",
        "from sklearn.pipeline import make_pipeline\n",
        "from sklearn.preprocessing import StandardScaler\n",
        "import numpy as np\n",
        "digits = load_digits()\n",
        "# x_train,x_test,y_train,y_test = train_test_split(digits.data,digits.target,test_size = 0.2)\n",
        "\n",
        "\n",
        "#logistic regression\n",
        "lo = LogisticRegression( solver='liblinear',multi_class='ovr',max_iter=100)\n",
        "# log.fit(x_train,y_train)\n",
        "# log.score(x_test,y_test)\n",
        "# #RandomForestClassifier\n",
        "# rf = RandomForestClassifier()\n",
        "# rf.fit(x_train,y_train)\n",
        "# rf.score(x_test,y_test)\n",
        "# #svm\n",
        "# s = SVC()\n",
        "# s.fit(x_train,y_train)\n",
        "# s.score(x_test,y_test)\n",
        "\n",
        "#k fold cross validation\n",
        "from sklearn.model_selection import KFold\n",
        "kf = KFold(n_splits=3)\n",
        "kf\n",
        "# for train_index,test_index in kf.split([1,2,3,4,5,6,7,8,9]):\n",
        "#   print(train_index,test_index)\n",
        "from sklearn.model_selection import StratifiedKFold\n",
        "skf = StratifiedKFold(n_splits=3)\n",
        "score_lr=[]\n",
        "for i,j in skf.split(digits.data,digits.target):\n",
        "  x_train,x_test,y_train,y_test = digits.data[i],digits.data[j],digits.target[i],digits.target[j]\n",
        "  lo.fit(x_train,y_train)\n",
        "  score_lr.append(lo.score(x_test,y_test))\n",
        "\n",
        "\n",
        "score_svc=[]\n",
        "score_rf=[]\n",
        "print(score_lr)\n",
        "\n",
        "#score_lr.append()\n",
        "#np.average(score_lr)\n",
        "from sklearn.model_selection import cross_val_score\n",
        "cross_val_score(LogisticRegression( solver='liblinear',multi_class='ovr',max_iter=100),digits.data,digits.target,cv=3)\n",
        "iris = load_iris()\n",
        "dir(iris)\n",
        "cross_val_score(LogisticRegression( solver='liblinear',multi_class='ovr',max_iter=100),iris.data,iris.target,cv=3)\n",
        "\n",
        "  \n",
        "\n",
        "\n",
        "\n",
        "\n",
        " "
      ],
      "metadata": {
        "id": "TyCDhrSuXihd",
        "colab": {
          "base_uri": "https://localhost:8080/"
        },
        "outputId": "a3666e9b-48a0-44c4-c9b1-433ad6f60cfb"
      },
      "execution_count": null,
      "outputs": [
        {
          "output_type": "stream",
          "name": "stdout",
          "text": [
            "[0.8948247078464107, 0.9532554257095158, 0.9098497495826378]\n"
          ]
        },
        {
          "output_type": "execute_result",
          "data": {
            "text/plain": [
              "array([0.96, 0.96, 0.94])"
            ]
          },
          "metadata": {},
          "execution_count": 51
        }
      ]
    },
    {
      "cell_type": "code",
      "source": [
        "# naive bayes example Guassian Naive Bayes\n",
        "import pandas as pd\n",
        "df = pd.read_csv('https://raw.githubusercontent.com/codebasics/py/master/ML/14_naive_bayes/titanic.csv')\n",
        "df.head()\n",
        "df.drop(['PassengerId','Name','Ticket','Cabin'],inplace = True,axis = 'columns')\n",
        "k = pd.get_dummies(df.Sex)\n",
        "m= pd.get_dummies(df.Embarked)\n",
        "k.head()\n",
        "y = df.Survived\n",
        "df = pd.concat([df,k,m],axis = 'columns')\n",
        "df.drop(['Sex','Embarked','male','C','Survived'],axis = 'columns',inplace = True)\n",
        "df.Age =df.Age.fillna(df.Age.mean())\n",
        "\n",
        "from sklearn.model_selection import train_test_split\n",
        "# to check any columns having null values\n",
        "#df.columns[df.isna().any()] \n",
        "x_train,x_test,y_train,y_test = train_test_split(df,y,test_size=0.2)\n",
        "from sklearn.naive_bayes import GaussianNB\n",
        "model = GaussianNB()\n",
        "x_train.columns[x_train.isna().any()]\n",
        "x_train.isna().sum()\n",
        "model.fit(x_train,y_train)\n",
        "model.score(x_test,y_test)\n",
        "from sklearn.model_selection import cross_val_score\n",
        "l=[]\n",
        "cross_val_score(GaussianNB(),df,y)\n",
        "l.append(cross_val_score(GaussianNB(),df,y))\n",
        "import numpy as np\n",
        "np.average(l)\n",
        "\n",
        "\n",
        "\n"
      ],
      "metadata": {
        "id": "6fRW0fubpYYQ",
        "colab": {
          "base_uri": "https://localhost:8080/"
        },
        "outputId": "d0bc919b-9a0b-4a05-d19a-59190ef75fb9"
      },
      "execution_count": null,
      "outputs": [
        {
          "output_type": "execute_result",
          "data": {
            "text/plain": [
              "Pclass    0\n",
              "Age       0\n",
              "SibSp     0\n",
              "Parch     0\n",
              "Fare      0\n",
              "female    0\n",
              "Q         0\n",
              "S         0\n",
              "dtype: int64"
            ]
          },
          "metadata": {},
          "execution_count": 24
        }
      ]
    },
    {
      "cell_type": "code",
      "source": [
        "#Multi Nomial Naive Bayes calssification\n",
        "import pandas as pd\n",
        "from sklearn.model_selection import train_test_split\n",
        "df = pd.read_csv('https://raw.githubusercontent.com/codebasics/py/master/ML/14_naive_bayes/spam.csv')\n",
        "df['spam'] = df.Category.apply(lambda x:1 if x== 'spam' else 0)\n",
        "df.head()\n",
        "\n",
        "from sklearn.feature_extraction.text import CountVectorizer\n",
        "from sklearn.naive_bayes import MultinomialNB\n",
        "v = CountVectorizer()\n",
        "from sklearn.model_selection import train_test_split\n",
        "x_train,x_test,y_train,y_test = train_test_split(df.Message,df.spam,test_size=0.25)\n",
        "from sklearn.pipeline import Pipeline\n",
        "pip = Pipeline([('v', CountVectorizer()),('nb', MultinomialNB())])\n",
        "# clf = Pipeline([('v', CountVectorizer()),('nb', MultinomialNB())])\n",
        "pip.fit(x_train,y_train)\n",
        "pip.score(x_test,y_test)\n",
        "\n",
        "\n",
        "\n",
        "\n",
        "\n",
        "\n",
        "\n",
        "\n",
        "\n",
        "\n",
        "\n",
        "\n",
        "\n",
        "\n"
      ],
      "metadata": {
        "id": "Nc-CzPYHpgBf",
        "colab": {
          "base_uri": "https://localhost:8080/",
          "height": 303
        },
        "outputId": "e3ae7d1a-28a9-4648-92e5-455e7cc52020"
      },
      "execution_count": null,
      "outputs": [
        {
          "output_type": "stream",
          "name": "stdout",
          "text": [
            "59 71 48\n"
          ]
        },
        {
          "output_type": "execute_result",
          "data": {
            "text/plain": [
              "<matplotlib.collections.PathCollection at 0x7f4c51c2da10>"
            ]
          },
          "metadata": {},
          "execution_count": 111
        },
        {
          "output_type": "display_data",
          "data": {
            "text/plain": [
              "<Figure size 432x288 with 1 Axes>"
            ],
            "image/png": "[encoded data removed]"
          },
          "metadata": {
            "needs_background": "light"
          }
        }
      ]
    },
    {
      "cell_type": "code",
      "source": [
        "# multinomial naive bayes\n",
        "from sklearn.datasets import load_wine\n",
        "w = load_wine()\n",
        "o = pd.DataFrame(w.data,columns = w.feature_names)\n",
        "o['target'] = w.target\n",
        "count=count1=count2 = 0\n",
        "for i in o.target:\n",
        "  if i==1:\n",
        "    count1 +=1\n",
        "  elif i==0:\n",
        "    count2 +=1\n",
        "  else:\n",
        "    count +=1\n",
        "print(count2,count1,count)\n",
        "#inputs.columns[inputs.isna().any()]\n",
        "o.columns[o.isna().sum()]\n",
        "import matplotlib.pyplot as plt\n",
        "plt.scatter(o.alcohol,o.proline)\n",
        "plt.scatter(o.hue,o.color_intensity,marker= '*',color = 'red')\n",
        "x_train,x_test,y_train,y_test = train_test_split(w.data,w.target,test_size=0.25)\n",
        "from sklearn.naive_bayes import MultinomialNB\n",
        "nb = MultinomialNB()\n",
        "nb.fit(x_train,y_train)\n",
        "nb.score(x_test,y_test)"
      ],
      "metadata": {
        "id": "7B_MKNfwsW39",
        "colab": {
          "base_uri": "https://localhost:8080/",
          "height": 303
        },
        "outputId": "181a9515-c984-40cf-83ac-69542df31bdf"
      },
      "execution_count": null,
      "outputs": [
        {
          "output_type": "stream",
          "name": "stdout",
          "text": [
            "59 71 48\n"
          ]
        },
        {
          "output_type": "execute_result",
          "data": {
            "text/plain": [
              "0.7555555555555555"
            ]
          },
          "metadata": {},
          "execution_count": 113
        },
        {
          "output_type": "display_data",
          "data": {
            "text/plain": [
              "<Figure size 432x288 with 1 Axes>"
            ],
            "image/png": "[encoded data removed]"
          },
          "metadata": {
            "needs_background": "light"
          }
        }
      ]
    },
    {
      "cell_type": "code",
      "source": [
        "#hyper parameter tuning\n",
        "import pandas as pd\n",
        "from sklearn.datasets import load_iris\n",
        "iris = load_iris()\n",
        "df = pd.DataFrame(iris.data,columns = iris.feature_names)\n",
        "df['flower'] = iris.target\n",
        "df['name'] = df.flower.apply(lambda x: iris.target_names[x])\n",
        "df\n",
        "from sklearn.model_selection import train_test_split\n",
        "X_train, X_test, y_train, y_test = train_test_split(iris.data, iris.target, test_size=0.3)\n",
        "from sklearn import svm\n",
        "model = svm.SVC(kernel = 'rbf',gamma = 'auto', C=10)\n",
        "model.fit(X_train,y_train)\n",
        "model.score(X_test,y_test)\n",
        "from sklearn.model_selection import cross_val_score\n",
        "import numpy as np\n",
        "np.average(cross_val_score(svm.SVC(kernel = 'rbf',gamma = 'auto', C=10),iris.data, iris.target,cv=5))\n",
        "from sklearn.model_selection import GridSearchCV\n",
        "gscv = GridSearchCV(svm.SVC(gamma='auto'),{'C':[1,5,10],'kernel':['rbf','linear']},cv=5,return_train_score=False)\n",
        "gscv.fit(X_train,y_train)\n",
        "dir(gscv)\n",
        "p = pd.DataFrame(gscv.cv_results_)\n",
        "#p\n",
        "from sklearn.model_selection import RandomizedSearchCV\n",
        "rs = RandomizedSearchCV(svm.SVC(gamma='auto'),{'C': [1,10,20],'kernel': ['rbf','linear']},cv=5,return_train_score=False)\n",
        "#rs.fit(X_train,y_train)\n",
        "rs.fit(iris.data,iris.target)\n",
        "dir(gscv)\n",
        "i = pd.DataFrame(rs.cv_results_)\n",
        "i\n",
        "from sklearn import svm\n",
        "from sklearn.ensemble import RandomForestClassifier\n",
        "from sklearn.linear_model import LogisticRegression\n",
        "\n",
        "model_params = {\n",
        "    'svm': {\n",
        "        'model': svm.SVC(gamma='auto'),\n",
        "        'params' : {\n",
        "            'C': [1,10,20],\n",
        "            'kernel': ['rbf','linear']\n",
        "        }  \n",
        "    },\n",
        "    'random_forest': {\n",
        "        'model': RandomForestClassifier(),\n",
        "        'params' : {\n",
        "            'n_estimators': [1,5,10]\n",
        "        }\n",
        "    },\n",
        "    'logistic_regression' : {\n",
        "        'model': LogisticRegression(solver='liblinear',multi_class='auto'),\n",
        "        'params': {\n",
        "            'C': [1,5,10]\n",
        "        }\n",
        "    }\n",
        "}\n",
        "scores = []\n",
        "\n",
        "for model_name, mp in model_params.items():\n",
        "    clf =  GridSearchCV(mp['model'], mp['params'], cv=5, return_train_score=False)\n",
        "    clf.fit(iris.data, iris.target)\n",
        "    scores.append({\n",
        "        'model': model_name,\n",
        "        'best_score': clf.best_score_,\n",
        "        'best_params': clf.best_params_\n",
        "    })\n",
        "    \n",
        "df = pd.DataFrame(scores,columns=['model','best_score','best_params'])\n",
        "df"
      ],
      "metadata": {
        "colab": {
          "base_uri": "https://localhost:8080/",
          "height": 198
        },
        "id": "M-69oDXlxgz3",
        "outputId": "5e3a19a5-73a4-4a4b-a9f8-862f1063f82b"
      },
      "execution_count": null,
      "outputs": [
        {
          "output_type": "stream",
          "name": "stderr",
          "text": [
            "/usr/local/lib/python3.7/dist-packages/sklearn/model_selection/_search.py:296: UserWarning: The total space of parameters 6 is smaller than n_iter=10. Running 6 iterations. For exhaustive searches, use GridSearchCV.\n",
            "  UserWarning,\n"
          ]
        },
        {
          "output_type": "execute_result",
          "data": {
            "text/plain": [
              "                 model  best_score                best_params\n",
              "0                  svm    0.980000  {'C': 1, 'kernel': 'rbf'}\n",
              "1        random_forest    0.966667        {'n_estimators': 5}\n",
              "2  logistic_regression    0.966667                   {'C': 5}"
            ],
            "text/html": [
              "\n",
              "  <div id=\"df-5ddd73d0-723a-458c-968e-55859ce4d9ac\">\n",
              "    <div class=\"colab-df-container\">\n",
              "      <div>\n",
              "<style scoped>\n",
              "    .dataframe tbody tr th:only-of-type {\n",
              "        vertical-align: middle;\n",
              "    }\n",
              "\n",
              "    .dataframe tbody tr th {\n",
              "        vertical-align: top;\n",
              "    }\n",
              "\n",
              "    .dataframe thead th {\n",
              "        text-align: right;\n",
              "    }\n",
              "</style>\n",
              "<table border=\"1\" class=\"dataframe\">\n",
              "  <thead>\n",
              "    <tr style=\"text-align: right;\">\n",
              "      <th></th>\n",
              "      <th>model</th>\n",
              "      <th>best_score</th>\n",
              "      <th>best_params</th>\n",
              "    </tr>\n",
              "  </thead>\n",
              "  <tbody>\n",
              "    <tr>\n",
              "      <th>0</th>\n",
              "      <td>svm</td>\n",
              "      <td>0.980000</td>\n",
              "      <td>{'C': 1, 'kernel': 'rbf'}</td>\n",
              "    </tr>\n",
              "    <tr>\n",
              "      <th>1</th>\n",
              "      <td>random_forest</td>\n",
              "      <td>0.966667</td>\n",
              "      <td>{'n_estimators': 5}</td>\n",
              "    </tr>\n",
              "    <tr>\n",
              "      <th>2</th>\n",
              "      <td>logistic_regression</td>\n",
              "      <td>0.966667</td>\n",
              "      <td>{'C': 5}</td>\n",
              "    </tr>\n",
              "  </tbody>\n",
              "</table>\n",
              "</div>\n",
              "      <button class=\"colab-df-convert\" onclick=\"convertToInteractive('df-5ddd73d0-723a-458c-968e-55859ce4d9ac')\"\n",
              "              title=\"Convert this dataframe to an interactive table.\"\n",
              "              style=\"display:none;\">\n",
              "        \n",
              "  <svg xmlns=\"http://www.w3.org/2000/svg\" height=\"24px\"viewBox=\"0 0 24 24\"\n",
              "       width=\"24px\">\n",
              "    <path d=\"M0 0h24v24H0V0z\" fill=\"none\"/>\n",
              "    <path d=\"M18.56 5.44l.94 2.06.94-2.06 2.06-.94-2.06-.94-.94-2.06-.94 2.06-2.06.94zm-11 1L8.5 8.5l.94-2.06 2.06-.94-2.06-.94L8.5 2.5l-.94 2.06-2.06.94zm10 10l.94 2.06.94-2.06 2.06-.94-2.06-.94-.94-2.06-.94 2.06-2.06.94z\"/><path d=\"M17.41 7.96l-1.37-1.37c-.4-.4-.92-.59-1.43-.59-.52 0-1.04.2-1.43.59L10.3 9.45l-7.72 7.72c-.78.78-.78 2.05 0 2.83L4 21.41c.39.39.9.59 1.41.59.51 0 1.02-.2 1.41-.59l7.78-7.78 2.81-2.81c.8-.78.8-2.07 0-2.86zM5.41 20L4 18.59l7.72-7.72 1.47 1.35L5.41 20z\"/>\n",
              "  </svg>\n",
              "      </button>\n",
              "      \n",
              "  <style>\n",
              "    .colab-df-container {\n",
              "      display:flex;\n",
              "      flex-wrap:wrap;\n",
              "      gap: 12px;\n",
              "    }\n",
              "\n",
              "    .colab-df-convert {\n",
              "      background-color: #E8F0FE;\n",
              "      border: none;\n",
              "      border-radius: 50%;\n",
              "      cursor: pointer;\n",
              "      display: none;\n",
              "      fill: #1967D2;\n",
              "      height: 32px;\n",
              "      padding: 0 0 0 0;\n",
              "      width: 32px;\n",
              "    }\n",
              "\n",
              "    .colab-df-convert:hover {\n",
              "      background-color: #E2EBFA;\n",
              "      box-shadow: 0px 1px 2px rgba(60, 64, 67, 0.3), 0px 1px 3px 1px rgba(60, 64, 67, 0.15);\n",
              "      fill: #174EA6;\n",
              "    }\n",
              "\n",
              "    [theme=dark] .colab-df-convert {\n",
              "      background-color: #3B4455;\n",
              "      fill: #D2E3FC;\n",
              "    }\n",
              "\n",
              "    [theme=dark] .colab-df-convert:hover {\n",
              "      background-color: #434B5C;\n",
              "      box-shadow: 0px 1px 3px 1px rgba(0, 0, 0, 0.15);\n",
              "      filter: drop-shadow(0px 1px 2px rgba(0, 0, 0, 0.3));\n",
              "      fill: #FFFFFF;\n",
              "    }\n",
              "  </style>\n",
              "\n",
              "      <script>\n",
              "        const buttonEl =\n",
              "          document.querySelector('#df-5ddd73d0-723a-458c-968e-55859ce4d9ac button.colab-df-convert');\n",
              "        buttonEl.style.display =\n",
              "          google.colab.kernel.accessAllowed ? 'block' : 'none';\n",
              "\n",
              "        async function convertToInteractive(key) {\n",
              "          const element = document.querySelector('#df-5ddd73d0-723a-458c-968e-55859ce4d9ac');\n",
              "          const dataTable =\n",
              "            await google.colab.kernel.invokeFunction('convertToInteractive',\n",
              "                                                     [key], {});\n",
              "          if (!dataTable) return;\n",
              "\n",
              "          const docLinkHtml = 'Like what you see? Visit the ' +\n",
              "            '<a target=\"_blank\" href=https://colab.research.google.com/notebooks/data_table.ipynb>data table notebook</a>'\n",
              "            + ' to learn more about interactive tables.';\n",
              "          element.innerHTML = '';\n",
              "          dataTable['output_type'] = 'display_data';\n",
              "          await google.colab.output.renderOutput(dataTable, element);\n",
              "          const docLink = document.createElement('div');\n",
              "          docLink.innerHTML = docLinkHtml;\n",
              "          element.appendChild(docLink);\n",
              "        }\n",
              "      </script>\n",
              "    </div>\n",
              "  </div>\n",
              "  "
            ]
          },
          "metadata": {},
          "execution_count": 87
        }
      ]
    },
    {
      "cell_type": "code",
      "source": [
        "# L1(Lasso) and L2(ridge) Regularization\n",
        "import numpy as np\n",
        "import pandas as pd\n",
        "import matplotlib.pyplot as plt\n",
        "import seaborn as sns\n",
        "df = pd.read_csv('https://raw.githubusercontent.com/codebasics/py/master/ML/16_regularization/Melbourne_housing_FULL.csv')\n",
        "# df.head()\n",
        "# df.isna().sum()\n",
        "# let's use limited columns which makes more sense for serving our purpose\n",
        "cols_to_use = ['Suburb', 'Rooms', 'Type', 'Method', 'SellerG', 'Regionname', 'Propertycount', \n",
        "               'Distance', 'CouncilArea', 'Bedroom2', 'Bathroom', 'Car', 'Landsize', 'BuildingArea', 'Price']\n",
        "df = df[cols_to_use]\n",
        "# Some feature's missing values can be treated as zero (another class for NA values or absence of that feature)\n",
        "# like 0 for Propertycount, Bedroom2 will refer to other class of NA values\n",
        "# like 0 for Car feature will mean that there's no car parking feature with house\n",
        "cols_to_fill_zero = ['Propertycount', 'Distance', 'Bedroom2', 'Bathroom', 'Car']\n",
        "df[cols_to_fill_zero] = df[cols_to_fill_zero].fillna(0)\n",
        "\n",
        "# other continuous features can be imputed with mean for faster results since our focus is on Reducing overfitting\n",
        "# using Lasso and Ridge Regression\n",
        "df['Landsize'] = df['Landsize'].fillna(df.Landsize.mean())\n",
        "df['BuildingArea'] = df['BuildingArea'].fillna(df.BuildingArea.mean())\n",
        "df.dropna(inplace = True)\n",
        "#df.isnull().sum()\n",
        "df = pd.get_dummies(df,drop_first = True)\n",
        "X = df.drop('Price',axis=1)\n",
        "y = df['Price']\n",
        "from sklearn.model_selection import train_test_split\n",
        "train_X, test_X, train_y, test_y = train_test_split(X, y, test_size=0.3, random_state=2)\n",
        "\n",
        "from sklearn.linear_model import LinearRegression\n",
        "reg = LinearRegression().fit(train_X, train_y)\n",
        "\n",
        "reg.score(test_X, test_y)\n",
        "reg.score(train_X, train_y)\n",
        "from sklearn.linear_model import Lasso\n",
        "k =Lasso(alpha=50, max_iter=100, tol=0.1)\n",
        "k.fit(train_X, train_y)\n",
        "k.score(test_X, test_y)\n",
        "k.score(train_X, train_y)\n",
        "from sklearn.linear_model import Ridge\n",
        "ridge_reg= Ridge(alpha=50, max_iter=100, tol=0.1)\n",
        "ridge_reg.fit(train_X, train_y)\n",
        "ridge_reg.score(test_X, test_y)\n",
        "ridge_reg.score(train_X, train_y)\n"
      ],
      "metadata": {
        "colab": {
          "base_uri": "https://localhost:8080/"
        },
        "id": "hmKHTw-BmkxJ",
        "outputId": "b73a74c0-0ca8-4f0c-a5a6-d4a8c1cbe903"
      },
      "execution_count": null,
      "outputs": [
        {
          "output_type": "stream",
          "name": "stderr",
          "text": [
            "/usr/local/lib/python3.7/dist-packages/sklearn/linear_model/_coordinate_descent.py:648: ConvergenceWarning: Objective did not converge. You might want to increase the number of iterations, check the scale of the features or consider increasing regularisation. Duality gap: 1.327e+15, tolerance: 7.963e+14\n",
            "  coef_, l1_reg, l2_reg, X, y, max_iter, tol, rng, random, positive\n"
          ]
        },
        {
          "output_type": "execute_result",
          "data": {
            "text/plain": [
              "0.6670848945194958"
            ]
          },
          "metadata": {},
          "execution_count": 39
        }
      ]
    },
    {
      "cell_type": "code",
      "source": [
        "# knn\n",
        "from sklearn.datasets import load_iris\n",
        "import pandas as pd\n",
        "import matplotlib.pyplot as plt\n",
        "df = load_iris()\n",
        "df.data\n",
        "df.feature_names\n",
        "data = pd.DataFrame(df.data,columns=df.feature_names)\n",
        "data['target'] = df.target\n",
        "data[data.target==1].head()\n",
        "data['flowernames'] = data.target.apply(lambda x: df.target_names[x])\n",
        "x = data.drop(['target','flowernames'],axis = 'columns')\n",
        "df0 = x[:50]\n",
        "df1 = x[50:100]\n",
        "df2 = x[100:150]\n",
        "plt.scatter(df0['sepal length (cm)'],df0['sepal width (cm)'],color = 'blue',marker = '*')\n",
        "#plt.scatter(df1['sepal length (cm)'],df1['sepal width (cm)'],color = 'red',marker = '+')\n",
        "plt.scatter(df2['sepal length (cm)'],df2['sepal width (cm)'],color = 'green',marker = '.')\n",
        "from sklearn.model_selection import train_test_split\n",
        "y = data.target\n",
        "x_train,x_test,y_train,y_test = train_test_split(x,y,test_size = 0.2)\n",
        "from sklearn.neighbors import KNeighborsClassifier\n",
        "knn = KNeighborsClassifier(n_neighbors=10)\n",
        "knn.fit(x_train, y_train)\n",
        "knn.score(x_test, y_test)\n",
        "from sklearn.metrics import confusion_matrix\n",
        "y_pred = knn.predict(X_test)\n",
        "cm = confusion_matrix(y_test, y_pred)\n",
        "cm\n",
        "%matplotlib inline\n",
        "import matplotlib.pyplot as plt\n",
        "import seaborn as sn\n",
        "plt.figure(figsize=(7,5))\n",
        "sn.heatmap(cm, annot=True)\n",
        "plt.xlabel('Predicted')\n",
        "plt.ylabel('Truth')"
      ],
      "metadata": {
        "colab": {
          "base_uri": "https://localhost:8080/",
          "height": 285
        },
        "id": "BwTDFL6fRAr4",
        "outputId": "a05a5e6a-0c98-4f74-f203-2606ddf936b8"
      },
      "execution_count": null,
      "outputs": [
        {
          "output_type": "execute_result",
          "data": {
            "text/plain": [
              "1.0"
            ]
          },
          "metadata": {},
          "execution_count": 2
        },
        {
          "output_type": "display_data",
          "data": {
            "text/plain": [
              "<Figure size 432x288 with 1 Axes>"
            ],
            "image/png": "[encoded data removed]"
          },
          "metadata": {
            "needs_background": "light"
          }
        }
      ]
    },
    {
      "cell_type": "code",
      "source": [
        "#knn exercise\n",
        "from sklearn.datasets import load_digits\n",
        "import pandas as pd\n",
        "import matplotlib.pyplot as plt\n",
        "df = load_digits()\n",
        "from sklearn.model_selection import train_test_split\n",
        "y = df.target\n",
        "\n",
        "x_train,x_test,y_train,y_test = train_test_split(df.data,y,test_size = 0.2)\n",
        "from sklearn.neighbors import KNeighborsClassifier\n",
        "# knn = KNeighborsClassifier(n_neighbors=5)\n",
        "from sklearn.model_selection import GridSearchCV\n",
        "gscv = GridSearchCV(KNeighborsClassifier(n_neighbors=5),{'n_neighbors':[4,8,12]},cv=5,return_train_score=False)\n",
        "gscv.fit(x_train,y_train)\n",
        "gscv.score(x_test, y_test)\n",
        "dir(gscv)\n",
        "gscv.best_estimator_\n",
        "p = pd.DataFrame(gscv.cv_results_)\n",
        "p\n",
        "y_pred = knn.predict(x_test)\n",
        "from sklearn.metrics import classification_report\n",
        "\n",
        "print(classification_report(y_test, y_pred))\n",
        "# knn.fit(x_train, y_train)\n",
        "# knn.score(x_test, y_test)\n",
        "# from sklearn.metrics import confusion_matrix\n",
        "# y_pred = knn.predict(x_test)\n",
        "# cm = confusion_matrix(y_test, y_pred)\n",
        "# cm\n",
        "# %matplotlib inline\n",
        "# import matplotlib.pyplot as plt\n",
        "# import seaborn as sn\n",
        "# plt.figure(figsize=(7,5))\n",
        "# sn.heatmap(cm, annot=True)\n",
        "# plt.xlabel('Predicted')\n",
        "# plt.ylabel('Truth')\n",
        "\n"
      ],
      "metadata": {
        "id": "a5oH6BZzRJQB"
      },
      "execution_count": null,
      "outputs": []
    },
    {
      "cell_type": "code",
      "source": [
        "#k means clustering\n",
        "import pandas as pd\n",
        "from sklearn.cluster import KMeans\n",
        "df = pd.read_csv('https://raw.githubusercontent.com/codebasics/py/master/ML/13_kmeans/income.csv')\n",
        "df.head()\n",
        "import matplotlib.pyplot as plt\n",
        "#plt.scatter(df['Income($)'],df.Age)\n",
        "# model = KMeans(n_clusters = 3)\n",
        "# y_predicted = model.fit_predict(df[['Age','Income($)']])\n",
        "# y_predicted\n",
        "# df['cluster'] = y_predicted\n",
        "# m = model.cluster_centers_\n",
        "# df1 = df[df.cluster==0]\n",
        "# df2 = df[df.cluster==1]\n",
        "# df3 = df[df.cluster==2]\n",
        "\n",
        "# plt.scatter(df1.Age,df1['Income($)'],color='green')\n",
        "# plt.scatter(df2.Age,df2['Income($)'],color='red')\n",
        "# plt.scatter(df3.Age,df3['Income($)'],color='black')\n",
        "# plt.scatter(model.cluster_centers_[:,0],model.cluster_centers_[:,1],color='purple',marker='*',label='centroid')\n",
        "# plt.legend()\n",
        "# plt.ylabel('Age')\n",
        "# plt.xlabel('Income')\n",
        "# plt.title('Age vs Income')\n",
        "\n",
        "#preprocessing using min max scaler\n",
        "from sklearn.preprocessing import MinMaxScaler\n",
        "scaler = MinMaxScaler()\n",
        "scaler.fit(df[['Income($)']])\n",
        "df['Income($)'] = scaler.transform(df[['Income($)']])\n",
        "\n",
        "scaler.fit(df[['Age']])\n",
        "df['Age'] = scaler.transform(df[['Age']])\n",
        "df.head()\n",
        "model = KMeans(n_clusters = 3)\n",
        "y_predicted = model.fit_predict(df[['Age','Income($)']])\n",
        "y_predicted\n",
        "df['cluster'] = y_predicted\n",
        "m = model.cluster_centers_\n",
        "df1 = df[df.cluster==0]\n",
        "df2 = df[df.cluster==1]\n",
        "df3 = df[df.cluster==2]\n",
        "\n",
        "plt.scatter(df1.Age,df1['Income($)'],color='green')\n",
        "plt.scatter(df2.Age,df2['Income($)'],color='red')\n",
        "plt.scatter(df3.Age,df3['Income($)'],color='black')\n",
        "plt.scatter(model.cluster_centers_[:,0],model.cluster_centers_[:,1],color='purple',marker='*',label='centroid')\n",
        "plt.legend()\n",
        "plt.ylabel('Age')\n",
        "plt.xlabel('Income')\n",
        "plt.title('Age vs Income')\n",
        "# sse = []\n",
        "# k_rng = range(1,10)\n",
        "# for k in k_rng:\n",
        "#     km = KMeans(n_clusters=k)\n",
        "#     km.fit(df[['Age','Income($)']])\n",
        "#     sse.append(km.inertia_)\n",
        "# plt.xlabel('K')\n",
        "# plt.ylabel('Sum of squared error')\n",
        "# plt.plot(k_rng,sse)\n",
        "\n",
        "\n",
        "\n"
      ],
      "metadata": {
        "id": "riqfUH3oDwjU",
        "colab": {
          "base_uri": "https://localhost:8080/",
          "height": 312
        },
        "outputId": "6e74c423-a10e-4877-ed11-fb93ed3ecc00"
      },
      "execution_count": null,
      "outputs": [
        {
          "output_type": "execute_result",
          "data": {
            "text/plain": [
              "Text(0.5, 1.0, 'Age vs Income')"
            ]
          },
          "metadata": {},
          "execution_count": 36
        },
        {
          "output_type": "display_data",
          "data": {
            "text/plain": [
              "<Figure size 432x288 with 1 Axes>"
            ],
            "image/png": "[encoded data removed]"
          },
          "metadata": {
            "needs_background": "light"
          }
        }
      ]
    },
    {
      "cell_type": "code",
      "source": [
        "#k means exercise\n",
        "from sklearn.cluster import KMeans\n",
        "import pandas as pd\n",
        "from sklearn.preprocessing import MinMaxScaler\n",
        "from matplotlib import pyplot as plt\n",
        "from sklearn.datasets import load_iris\n",
        "%matplotlib inline\n",
        "iris = load_iris()\n",
        "df = pd.DataFrame(iris.data,columns=iris.feature_names)\n",
        "df.head()\n",
        "df['flower'] = iris.target\n",
        "df.head()\n",
        "df.drop(['sepal length (cm)', 'sepal width (cm)', 'flower'],axis='columns',inplace=True)\n",
        "km = KMeans(n_clusters=3)\n",
        "yp = km.fit_predict(df)\n",
        "yp\n",
        "df['cluster'] = yp\n",
        "df.head(2)\n",
        "df.cluster.unique()\n",
        "df1 = df[df.cluster==0]\n",
        "df2 = df[df.cluster==1]\n",
        "df3 = df[df.cluster==2]\n",
        "plt.scatter(df1['petal length (cm)'],df1['petal width (cm)'],color='blue')\n",
        "plt.scatter(df2['petal length (cm)'],df2['petal width (cm)'],color='green')\n",
        "plt.scatter(df3['petal length (cm)'],df3['petal width (cm)'],color='yellow')\n",
        "sse = []\n",
        "k_rng = range(1,10)\n",
        "for k in k_rng:\n",
        "    km = KMeans(n_clusters=k)\n",
        "    km.fit(df)\n",
        "    sse.append(km.inertia_)\n",
        "# plt.xlabel('K')\n",
        "# plt.ylabel('Sum of squared error')\n",
        "# plt.plot(k_rng,sse)\n"
      ],
      "metadata": {
        "colab": {
          "base_uri": "https://localhost:8080/",
          "height": 265
        },
        "id": "AqzvSAWpIcC4",
        "outputId": "d2d9a20b-6812-4b6b-87cd-caad9e2b8994"
      },
      "execution_count": null,
      "outputs": [
        {
          "output_type": "display_data",
          "data": {
            "text/plain": [
              "<Figure size 432x288 with 1 Axes>"
            ],
            "image/png": "[encoded data removed]"
          },
          "metadata": {
            "needs_background": "light"
          }
        }
      ]
    },
    {
      "cell_type": "code",
      "source": [
        "# pca\n",
        "from sklearn.datasets import load_digits\n",
        "import pandas as pd\n",
        "digits = load_digits()\n",
        "dir(digits)\n",
        "digits.data.shape\n",
        "import matplotlib.pyplot as plt\n",
        "plt.gray()\n",
        "# plt.matshow(digits.data[0])\n",
        "# digits.keys()\n",
        "#plt.matshow(digits.data[0].reshape(8,8))\n",
        "df = pd.DataFrame(digits.data,columns = digits.feature_names)\n",
        "x = df\n",
        "y = digits.target\n",
        "from sklearn.preprocessing import StandardScaler\n",
        "scaler = StandardScaler()\n",
        "x_scaled = scaler.fit_transform(x)\n",
        "x_scaled\n",
        "from sklearn.model_selection import train_test_split\n",
        "\n",
        "X_train, X_test, y_train, y_test = train_test_split(x_scaled, y, test_size=0.2, random_state=30)\n",
        "from sklearn.linear_model import LogisticRegression\n",
        "\n",
        "model = LogisticRegression()\n",
        "model.fit(X_train, y_train)\n",
        "model.score(X_test, y_test)\n",
        "\n",
        "# now using pca\n",
        "from sklearn.decomposition import PCA\n",
        "pca = PCA(0.95)# retain 95% useful features or information or variation and create new dimensions\n",
        "x_pca = pca.fit_transform(x)\n",
        "x_pca\n",
        "dir(pca)\n",
        "pca.explained_variance_ratio_ # this gives us the ratio of variance\n",
        "pca.n_components_ # this gives us number of pca components which means number of features taken\n",
        "from sklearn.model_selection import train_test_split\n",
        "\n",
        "X_train, X_test, y_train, y_test = train_test_split(x_pca, y, test_size=0.2, random_state=30)\n",
        "from sklearn.linear_model import LogisticRegression\n",
        "\n",
        "model = LogisticRegression(max_iter=100)\n",
        "model.fit(X_train, y_train)\n",
        "model.score(X_test, y_test)\n",
        "\n",
        "# try 2 components of pca which is 2 features which we will get low accuracy score\n",
        "pca = PCA(n_components=2)\n",
        "X_pca = pca.fit_transform(x)\n",
        "X_pca.shape\n",
        "X_pca\n",
        "pca.explained_variance_ratio_ # You can see that both combined retains 0.14+0.13=0.27 or 27% of important feature information\n",
        "X_train_pca, X_test_pca, y_train, y_test = train_test_split(X_pca, y, test_size=0.2, random_state=30)\n",
        "\n",
        "model = LogisticRegression(max_iter=1000)\n",
        "model.fit(X_train_pca, y_train)\n",
        "model.score(X_test_pca, y_test)\n",
        "\n",
        "#We get less accuancy (~60%) as using only 2 components did not retain much of the feature information. \n",
        "#However in real life you will find many cases where using 2 or few PCA components can still give you a pretty good accuracy"
      ],
      "metadata": {
        "id": "duDBEzeDTPGD",
        "colab": {
          "base_uri": "https://localhost:8080/",
          "height": 191
        },
        "outputId": "30d81ab7-5201-4dab-89b2-5873c70e2823"
      },
      "execution_count": null,
      "outputs": [
        {
          "output_type": "stream",
          "name": "stderr",
          "text": [
            "/usr/local/lib/python3.7/dist-packages/sklearn/linear_model/_logistic.py:818: ConvergenceWarning: lbfgs failed to converge (status=1):\n",
            "STOP: TOTAL NO. of ITERATIONS REACHED LIMIT.\n",
            "\n",
            "Increase the number of iterations (max_iter) or scale the data as shown in:\n",
            "    https://scikit-learn.org/stable/modules/preprocessing.html\n",
            "Please also refer to the documentation for alternative solver options:\n",
            "    https://scikit-learn.org/stable/modules/linear_model.html#logistic-regression\n",
            "  extra_warning_msg=_LOGISTIC_SOLVER_CONVERGENCE_MSG,\n"
          ]
        },
        {
          "output_type": "execute_result",
          "data": {
            "text/plain": [
              "0.6083333333333333"
            ]
          },
          "metadata": {},
          "execution_count": 40
        },
        {
          "output_type": "display_data",
          "data": {
            "text/plain": [
              "<Figure size 432x288 with 0 Axes>"
            ]
          },
          "metadata": {}
        }
      ]
    },
    {
      "cell_type": "code",
      "source": [
        "#pca exercise\n",
        "import pandas as pd\n",
        "df = pd.read_csv('https://raw.githubusercontent.com/codebasics/py/master/ML/18_PCA/Exercise/heart.csv')\n",
        "df.describe()\n",
        "from sklearn.preprocessing import MinMaxScaler\n",
        "\n",
        "# scaler = MinMaxScaler()\n",
        "# scaler.fit(df[['Income($)']])\n",
        "# df['Income($)'] = scaler.transform(df[['Income($)']])\n",
        "\n",
        "from sklearn.preprocessing import MinMaxScaler\n",
        "from sklearn.model_selection import train_test_split\n",
        "scaler = MinMaxScaler()\n",
        "df = pd.get_dummies(df,drop_first = True)\n",
        "from sklearn.svm import SVC\n",
        "from sklearn.linear_model import LogisticRegression\n",
        "from sklearn.ensemble import RandomForestClassifier\n",
        "x = df.drop('HeartDisease',axis = 'columns')\n",
        "y = df.HeartDisease\n",
        "scores=[]\n",
        "x_train,x_test,y_train,y_test = train_test_split(x,y,test_size = 0.2)\n",
        "# model = [SVC,RandomForestClassifier,LogisticRegression]\n",
        "# l = SVC()\n",
        "# rf = RandomForestClassifier()\n",
        "# lr =LogisticRegression()\n",
        "\n",
        "# l.fit(x_train,y_train)\n",
        "# scores.append(l.score(x_test,y_test))\n",
        "# rf.fit(x_train,y_train)\n",
        "# scores.append(rf.score(x_test,y_test))\n",
        "\n",
        "# lr.fit(x_train,y_train)\n",
        "# scores.append(lr.score(x_test,y_test))\n",
        "\n",
        "scores\n",
        "\n",
        "from sklearn.model_selection import cross_val_score\n",
        "import numpy as np\n",
        "\n",
        "np.average(cross_val_score(SVC(),x_train,y_train))\n"
      ],
      "metadata": {
        "colab": {
          "base_uri": "https://localhost:8080/"
        },
        "id": "ryFHYRTShNU9",
        "outputId": "427391ef-8e4d-4c63-b3dc-d7691acd3ca5"
      },
      "execution_count": null,
      "outputs": [
        {
          "output_type": "execute_result",
          "data": {
            "text/plain": [
              "0.717938682322244"
            ]
          },
          "metadata": {},
          "execution_count": 103
        }
      ]
    },
    {
      "cell_type": "code",
      "source": [
        "df.head()"
      ],
      "metadata": {
        "colab": {
          "base_uri": "https://localhost:8080/",
          "height": 206
        },
        "id": "68A2qPOy2bZh",
        "outputId": "7a707cdf-4e2c-4dcf-e668-dc94958381ff"
      },
      "execution_count": null,
      "outputs": [
        {
          "output_type": "execute_result",
          "data": {
            "text/plain": [
              "   Age Sex ChestPainType  RestingBP  Cholesterol  FastingBS RestingECG  MaxHR  \\\n",
              "0   40   M           ATA        140          289          0     Normal    172   \n",
              "1   49   F           NAP        160          180          0     Normal    156   \n",
              "2   37   M           ATA        130          283          0         ST     98   \n",
              "3   48   F           ASY        138          214          0     Normal    108   \n",
              "4   54   M           NAP        150          195          0     Normal    122   \n",
              "\n",
              "  ExerciseAngina  Oldpeak ST_Slope  HeartDisease  \n",
              "0              N      0.0       Up             0  \n",
              "1              N      1.0     Flat             1  \n",
              "2              N      0.0       Up             0  \n",
              "3              Y      1.5     Flat             1  \n",
              "4              N      0.0       Up             0  "
            ],
            "text/html": [
              "\n",
              "  <div id=\"df-c7ddce00-7bed-4884-a2cb-00f4d231452a\">\n",
              "    <div class=\"colab-df-container\">\n",
              "      <div>\n",
              "<style scoped>\n",
              "    .dataframe tbody tr th:only-of-type {\n",
              "        vertical-align: middle;\n",
              "    }\n",
              "\n",
              "    .dataframe tbody tr th {\n",
              "        vertical-align: top;\n",
              "    }\n",
              "\n",
              "    .dataframe thead th {\n",
              "        text-align: right;\n",
              "    }\n",
              "</style>\n",
              "<table border=\"1\" class=\"dataframe\">\n",
              "  <thead>\n",
              "    <tr style=\"text-align: right;\">\n",
              "      <th></th>\n",
              "      <th>Age</th>\n",
              "      <th>Sex</th>\n",
              "      <th>ChestPainType</th>\n",
              "      <th>RestingBP</th>\n",
              "      <th>Cholesterol</th>\n",
              "      <th>FastingBS</th>\n",
              "      <th>RestingECG</th>\n",
              "      <th>MaxHR</th>\n",
              "      <th>ExerciseAngina</th>\n",
              "      <th>Oldpeak</th>\n",
              "      <th>ST_Slope</th>\n",
              "      <th>HeartDisease</th>\n",
              "    </tr>\n",
              "  </thead>\n",
              "  <tbody>\n",
              "    <tr>\n",
              "      <th>0</th>\n",
              "      <td>40</td>\n",
              "      <td>M</td>\n",
              "      <td>ATA</td>\n",
              "      <td>140</td>\n",
              "      <td>289</td>\n",
              "      <td>0</td>\n",
              "      <td>Normal</td>\n",
              "      <td>172</td>\n",
              "      <td>N</td>\n",
              "      <td>0.0</td>\n",
              "      <td>Up</td>\n",
              "      <td>0</td>\n",
              "    </tr>\n",
              "    <tr>\n",
              "      <th>1</th>\n",
              "      <td>49</td>\n",
              "      <td>F</td>\n",
              "      <td>NAP</td>\n",
              "      <td>160</td>\n",
              "      <td>180</td>\n",
              "      <td>0</td>\n",
              "      <td>Normal</td>\n",
              "      <td>156</td>\n",
              "      <td>N</td>\n",
              "      <td>1.0</td>\n",
              "      <td>Flat</td>\n",
              "      <td>1</td>\n",
              "    </tr>\n",
              "    <tr>\n",
              "      <th>2</th>\n",
              "      <td>37</td>\n",
              "      <td>M</td>\n",
              "      <td>ATA</td>\n",
              "      <td>130</td>\n",
              "      <td>283</td>\n",
              "      <td>0</td>\n",
              "      <td>ST</td>\n",
              "      <td>98</td>\n",
              "      <td>N</td>\n",
              "      <td>0.0</td>\n",
              "      <td>Up</td>\n",
              "      <td>0</td>\n",
              "    </tr>\n",
              "    <tr>\n",
              "      <th>3</th>\n",
              "      <td>48</td>\n",
              "      <td>F</td>\n",
              "      <td>ASY</td>\n",
              "      <td>138</td>\n",
              "      <td>214</td>\n",
              "      <td>0</td>\n",
              "      <td>Normal</td>\n",
              "      <td>108</td>\n",
              "      <td>Y</td>\n",
              "      <td>1.5</td>\n",
              "      <td>Flat</td>\n",
              "      <td>1</td>\n",
              "    </tr>\n",
              "    <tr>\n",
              "      <th>4</th>\n",
              "      <td>54</td>\n",
              "      <td>M</td>\n",
              "      <td>NAP</td>\n",
              "      <td>150</td>\n",
              "      <td>195</td>\n",
              "      <td>0</td>\n",
              "      <td>Normal</td>\n",
              "      <td>122</td>\n",
              "      <td>N</td>\n",
              "      <td>0.0</td>\n",
              "      <td>Up</td>\n",
              "      <td>0</td>\n",
              "    </tr>\n",
              "  </tbody>\n",
              "</table>\n",
              "</div>\n",
              "      <button class=\"colab-df-convert\" onclick=\"convertToInteractive('df-c7ddce00-7bed-4884-a2cb-00f4d231452a')\"\n",
              "              title=\"Convert this dataframe to an interactive table.\"\n",
              "              style=\"display:none;\">\n",
              "        \n",
              "  <svg xmlns=\"http://www.w3.org/2000/svg\" height=\"24px\"viewBox=\"0 0 24 24\"\n",
              "       width=\"24px\">\n",
              "    <path d=\"M0 0h24v24H0V0z\" fill=\"none\"/>\n",
              "    <path d=\"M18.56 5.44l.94 2.06.94-2.06 2.06-.94-2.06-.94-.94-2.06-.94 2.06-2.06.94zm-11 1L8.5 8.5l.94-2.06 2.06-.94-2.06-.94L8.5 2.5l-.94 2.06-2.06.94zm10 10l.94 2.06.94-2.06 2.06-.94-2.06-.94-.94-2.06-.94 2.06-2.06.94z\"/><path d=\"M17.41 7.96l-1.37-1.37c-.4-.4-.92-.59-1.43-.59-.52 0-1.04.2-1.43.59L10.3 9.45l-7.72 7.72c-.78.78-.78 2.05 0 2.83L4 21.41c.39.39.9.59 1.41.59.51 0 1.02-.2 1.41-.59l7.78-7.78 2.81-2.81c.8-.78.8-2.07 0-2.86zM5.41 20L4 18.59l7.72-7.72 1.47 1.35L5.41 20z\"/>\n",
              "  </svg>\n",
              "      </button>\n",
              "      \n",
              "  <style>\n",
              "    .colab-df-container {\n",
              "      display:flex;\n",
              "      flex-wrap:wrap;\n",
              "      gap: 12px;\n",
              "    }\n",
              "\n",
              "    .colab-df-convert {\n",
              "      background-color: #E8F0FE;\n",
              "      border: none;\n",
              "      border-radius: 50%;\n",
              "      cursor: pointer;\n",
              "      display: none;\n",
              "      fill: #1967D2;\n",
              "      height: 32px;\n",
              "      padding: 0 0 0 0;\n",
              "      width: 32px;\n",
              "    }\n",
              "\n",
              "    .colab-df-convert:hover {\n",
              "      background-color: #E2EBFA;\n",
              "      box-shadow: 0px 1px 2px rgba(60, 64, 67, 0.3), 0px 1px 3px 1px rgba(60, 64, 67, 0.15);\n",
              "      fill: #174EA6;\n",
              "    }\n",
              "\n",
              "    [theme=dark] .colab-df-convert {\n",
              "      background-color: #3B4455;\n",
              "      fill: #D2E3FC;\n",
              "    }\n",
              "\n",
              "    [theme=dark] .colab-df-convert:hover {\n",
              "      background-color: #434B5C;\n",
              "      box-shadow: 0px 1px 3px 1px rgba(0, 0, 0, 0.15);\n",
              "      filter: drop-shadow(0px 1px 2px rgba(0, 0, 0, 0.3));\n",
              "      fill: #FFFFFF;\n",
              "    }\n",
              "  </style>\n",
              "\n",
              "      <script>\n",
              "        const buttonEl =\n",
              "          document.querySelector('#df-c7ddce00-7bed-4884-a2cb-00f4d231452a button.colab-df-convert');\n",
              "        buttonEl.style.display =\n",
              "          google.colab.kernel.accessAllowed ? 'block' : 'none';\n",
              "\n",
              "        async function convertToInteractive(key) {\n",
              "          const element = document.querySelector('#df-c7ddce00-7bed-4884-a2cb-00f4d231452a');\n",
              "          const dataTable =\n",
              "            await google.colab.kernel.invokeFunction('convertToInteractive',\n",
              "                                                     [key], {});\n",
              "          if (!dataTable) return;\n",
              "\n",
              "          const docLinkHtml = 'Like what you see? Visit the ' +\n",
              "            '<a target=\"_blank\" href=https://colab.research.google.com/notebooks/data_table.ipynb>data table notebook</a>'\n",
              "            + ' to learn more about interactive tables.';\n",
              "          element.innerHTML = '';\n",
              "          dataTable['output_type'] = 'display_data';\n",
              "          await google.colab.output.renderOutput(dataTable, element);\n",
              "          const docLink = document.createElement('div');\n",
              "          docLink.innerHTML = docLinkHtml;\n",
              "          element.appendChild(docLink);\n",
              "        }\n",
              "      </script>\n",
              "    </div>\n",
              "  </div>\n",
              "  "
            ]
          },
          "metadata": {},
          "execution_count": 58
        }
      ]
    },
    {
      "cell_type": "code",
      "source": [
        ""
      ],
      "metadata": {
        "colab": {
          "base_uri": "https://localhost:8080/",
          "height": 833
        },
        "id": "p3GRlRDY2h9w",
        "outputId": "24f192a0-34bc-4abb-c662-d7918483f463"
      },
      "execution_count": null,
      "outputs": [
        {
          "output_type": "execute_result",
          "data": {
            "text/plain": [
              "<matplotlib.axes._subplots.AxesSubplot at 0x7fa1bf810c50>"
            ]
          },
          "metadata": {},
          "execution_count": 81
        },
        {
          "output_type": "display_data",
          "data": {
            "text/plain": [
              "<Figure size 432x288 with 1 Axes>"
            ],
            "image/png": "[encoded data removed]"
          },
          "metadata": {
            "needs_background": "light"
          }
        },
        {
          "output_type": "display_data",
          "data": {
            "text/plain": [
              "<Figure size 432x288 with 1 Axes>"
            ],
            "image/png": "[encoded data removed]"
          },
          "metadata": {
            "needs_background": "light"
          }
        },
        {
          "output_type": "display_data",
          "data": {
            "text/plain": [
              "<Figure size 432x288 with 1 Axes>"
            ],
            "image/png": "[encoded data removed]"
          },
          "metadata": {
            "needs_background": "light"
          }
        }
      ]
    },
    {
      "cell_type": "code",
      "source": [
        ""
      ],
      "metadata": {
        "id": "c8CGulPFGtf_"
      },
      "execution_count": null,
      "outputs": []
    }
  ]
}