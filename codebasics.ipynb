{
  "nbformat": 4,
  "nbformat_minor": 0,
  "metadata": {
    "colab": {
      "name": "codebasics.ipynb",
      "provenance": [],
      "collapsed_sections": [],
      "authorship_tag": "ABX9TyMCssc7zUfRehsBeVQu6162",
      "include_colab_link": true
    },
    "kernelspec": {
      "name": "python3",
      "display_name": "Python 3"
    },
    "language_info": {
      "name": "python"
    }
  },
  "cells": [
    {
      "cell_type": "markdown",
      "metadata": {
        "id": "view-in-github",
        "colab_type": "text"
      },
      "source": [
        "<a href=\"https://colab.research.google.com/github/dkpuvvula/Practice/blob/main/codebasics.ipynb\" target=\"_parent\"><img src=\"https://colab.research.google.com/assets/colab-badge.svg\" alt=\"Open In Colab\"/></a>"
      ]
    },
    {
      "cell_type": "code",
      "execution_count": null,
      "metadata": {
        "id": "0mi5bO3mrIri"
      },
      "outputs": [],
      "source": [
        "#Linear Regression With One Variable\n",
        "import pandas as pd\n",
        "import matplotlib.pyplot as plt\n",
        "from sklearn import linear_model\n",
        "df = pd.read_csv(\"https://raw.githubusercontent.com/codebasics/py/master/ML/1_linear_reg/homeprices.csv\")\n",
        "# plt.xlabel('area')\n",
        "# plt.ylabel('price')\n",
        "# plt.scatter(df.area, df.price,color = 'red',marker = '+')\n",
        "# x_df = df.drop('price',axis = 'columns')\n",
        "#x_df\n",
        "y_df = df.drop('area',axis = 'columns')\n",
        "regression = linear_model.LinearRegression()\n",
        "regression.fit(x_df,y_df)\n",
        "f = pd.read_csv('https://raw.githubusercontent.com/codebasics/py/master/ML/1_linear_reg/areas.csv')\n",
        "m= regression.predict(f)\n",
        "plt.xlabel('area')\n",
        "plt.ylabel('price')\n",
        "plt.scatter(f.area,m)\n",
        "plt.plot(f.area,m)"
      ]
    },
    {
      "cell_type": "code",
      "source": [
        "#Linear Regression With One Variable (exercise)\n",
        "import pandas as pd\n",
        "import matplotlib.pyplot as plot\n",
        "from sklearn import linear_model\n",
        "df = pd.read_csv('https://raw.githubusercontent.com/codebasics/py/master/ML/1_linear_reg/Exercise/canada_per_capita_income.csv')\n",
        "df =df.rename(columns = {'per capita income (US$)':'income'})\n",
        "plt.xlabel('year')\n",
        "plt.ylabel('income')\n",
        "x_df = df.drop('income',axis = 'columns')\n",
        "y_df = df.drop('year', axis = 'columns')\n",
        "plt.scatter(df.year,df.income,color ='red',marker = '+')\n",
        "plt.plot(df.year,df.income)\n",
        "regression = linear_model.LinearRegression()\n",
        "regression.fit(x_df,y_df)\n",
        "regression.predict([['2020']])\n",
        "\n"
      ],
      "metadata": {
        "id": "54CUJ6CmspUc"
      },
      "execution_count": null,
      "outputs": []
    },
    {
      "cell_type": "code",
      "source": [
        "#Linear Regression Multiple Variables\n",
        "import pandas as pd\n",
        "from sklearn import linear_model\n",
        "import matplotlib.pyplot as plt\n",
        "df = pd.read_csv('https://raw.githubusercontent.com/codebasics/py/master/ML/2_linear_reg_multivariate/homeprices.csv')\n",
        "df.bedrooms = df.bedrooms.fillna(df.bedrooms.median())\n",
        "regression = linear_model.LinearRegression()\n",
        "regression.fit(df.drop('price',axis ='columns'),df.price)\n",
        "regression.predict([[3000, 3, 40]])\n"
      ],
      "metadata": {
        "id": "uJeV2CdfuVrp"
      },
      "execution_count": null,
      "outputs": []
    },
    {
      "cell_type": "code",
      "source": [
        "#Linear Regression Multiple Variables (exercise)\n",
        "import pandas as pd\n",
        "!pip install word2number\n",
        "import numpy as np\n",
        "from sklearn import linear_model\n",
        "import matplotlib.pyplot as plt\n",
        "from word2number import w2n\n",
        "df = pd.read_csv('https://raw.githubusercontent.com/codebasics/py/master/ML/2_linear_reg_multivariate/Exercise/hiring.csv')\n",
        "df.rename(columns={'test_score(out of 10)':'test','interview_score(out of 10)':'interview','salary($)' : 'salary'},inplace = True)\n",
        "df.test.fillna(df.test.mean(),inplace = True)\n",
        "df.experience.fillna(\"zero\",inplace = True)\n",
        "#df.experience = df.experience.apply(w2n.word_to_num)\n",
        "df.experience = df.experience.apply(w2n.word_to_num)\n",
        "regression = linear_model.LinearRegression()\n",
        "regression.fit(df.drop('salary',axis = 'columns'),df.salary)\n",
        "regression.predict([[2,9,6]])"
      ],
      "metadata": {
        "id": "-THX2klThVeq"
      },
      "execution_count": null,
      "outputs": []
    },
    {
      "cell_type": "markdown",
      "source": [
        "Dummy Variable Trap\n",
        "\n",
        "When you can derive one variable from other variables, they are known to be multi-colinear. Here if you know values of california and georgia then you can easily infer value of new jersey state, i.e. california=0 and georgia=0. There for these state variables are called to be multi-colinear. In this situation linear regression won't work as expected. Hence you need to drop one column.\n",
        "\n",
        "NOTE: sklearn library takes care of dummy variable trap hence even if you don't drop one of the state columns it is going to work, however we should make a habit of taking care of dummy variable trap ourselves just in case library that yo`u are using is not handling this for you`"
      ],
      "metadata": {
        "id": "DmxRbxHNt1jf"
      }
    },
    {
      "cell_type": "code",
      "source": [
        "#Categorical Variables \n",
        "import pandas as pd\n",
        "import matplotlib.pyplot as plt\n",
        "from sklearn import linear_model\n",
        "\n",
        "df = pd.read_csv('https://raw.githubusercontent.com/codebasics/py/master/ML/5_one_hot_encoding/homeprices.csv')\n",
        "dummies = pd.get_dummies(df.town)\n",
        "df = pd.concat([df,dummies], axis = 'columns')\n",
        "final = df.drop(['town'], axis = 'columns')\n",
        "final = final.drop('west windsor', axis = 'columns')\n",
        "regression = linear_model.LinearRegression()\n",
        "regression.fit(final.drop('price',axis='columns'),final.price)\n",
        "regression.score(final.drop('price',axis='columns'),final.price)\n",
        "regression.predict([[3400,0,0]])\n",
        "\n",
        "#One Hot Encoding\n",
        "\n",
        "\n"
      ],
      "metadata": {
        "cellView": "code",
        "id": "Rhei-rmxnkWN"
      },
      "execution_count": null,
      "outputs": []
    },
    {
      "cell_type": "code",
      "source": [
        "#Categorical Variables \n",
        "import pandas as pd\n",
        "df = pd.read_csv('https://raw.githubusercontent.com/codebasics/py/master/ML/5_one_hot_encoding/Exercise/carprices.csv')\n",
        "dummies = pd.get_dummies(df['Car Model'])\n",
        "final = pd.concat([df,dummies],axis = 'columns')\n",
        "final = final.drop(['Car Model','Mercedez Benz C class'], axis = 'columns')\n",
        "from sklearn import linear_model\n",
        "regression = linear_model.LinearRegression()\n",
        "regression.fit(final.drop('Sell Price($)',axis = 'columns'),final['Sell Price($)'])\n",
        "regression.score(final.drop('Sell Price($)',axis = 'columns'),final['Sell Price($)'])\n",
        "#regression.predict([[45000,4,0,0]])\n"
      ],
      "metadata": {
        "colab": {
          "base_uri": "https://localhost:8080/"
        },
        "id": "UzZhJubtsEO9",
        "outputId": "d004a13f-0d8d-4cfe-d6dd-4995e6eb4601"
      },
      "execution_count": null,
      "outputs": [
        {
          "output_type": "execute_result",
          "data": {
            "text/plain": [
              "0.9417050937281083"
            ]
          },
          "metadata": {},
          "execution_count": 155
        }
      ]
    },
    {
      "cell_type": "code",
      "source": [
        "# Training And Testing Available Data\n",
        "import pandas as pd\n",
        "import matplotlib.pyplot as plt\n",
        "from sklearn.model_selection import train_test_split\n",
        "from sklearn import linear_model\n",
        "\n",
        "df = pd.read_csv('https://raw.githubusercontent.com/codebasics/py/master/ML/6_train_test_split/carprices.csv')\n",
        "\n",
        "# plt.xlabel('Mileage')\n",
        "# plt.ylabel('price')\n",
        "df.rename(columns = {'Sell Price($)':'price'},inplace = 'True')\n",
        "#df =df.rename(columns = {'per capita income (US$)':'income'})\n",
        "#plt.scatter(df['Age(yrs)'],df.price)\n",
        "\n",
        "#plt.scatter(df.year,df.income,color ='red',marker = '+')\n",
        "df.head()\n",
        "x = df.drop('price',axis = 'columns')\n",
        "y =df.price\n",
        "x_train,x_test,y_train,y_test = train_test_split(x,y,train_size = 0.9)\n",
        "regression = linear_model.LinearRegression()\n",
        "regression.fit(x_train,y_train)\n",
        "regression.predict(x_test)\n",
        "regression.score(x_test,y_test)\n",
        "#train_test_split"
      ],
      "metadata": {
        "id": "7xwBqOiY2eWQ",
        "colab": {
          "base_uri": "https://localhost:8080/"
        },
        "outputId": "558c8e3b-834c-49dd-ee72-a4a4d01e82f5"
      },
      "execution_count": null,
      "outputs": [
        {
          "output_type": "execute_result",
          "data": {
            "text/plain": [
              "0.6411573632698375"
            ]
          },
          "metadata": {},
          "execution_count": 51
        }
      ]
    },
    {
      "cell_type": "code",
      "source": [
        "# logistic regression binary classification\n",
        "import pandas as pd\n",
        "from sklearn import linear_model\n",
        "from sklearn.linear_model import LogisticRegression\n",
        "from sklearn.model_selection import train_test_split\n",
        "import matplotlib.pyplot as plt\n",
        "%matplotlib inline\n",
        "\n",
        "df = pd.read_csv('https://raw.githubusercontent.com/codebasics/py/master/ML/7_logistic_reg/insurance_data.csv')\n",
        "df.head()\n",
        "# plt.xlabel('age')\n",
        "# plt.ylabel('insurance')\n",
        "# plt.scatter(df.age,df.bought_insurance)\n",
        "x = df.drop('bought_insurance',axis = 'columns')\n",
        "x_train,x_test,y_train,y_test = train_test_split(x,df.bought_insurance,test_size = 0.2)\n",
        "regression = LogisticRegression()\n",
        "regression.fit(x_train,y_train)\n",
        "regression.predict(x_test)\n",
        "regression.score(x_test,y_test)\n"
      ],
      "metadata": {
        "colab": {
          "base_uri": "https://localhost:8080/"
        },
        "id": "IfZN_QohkZZS",
        "outputId": "147a505c-30e5-4809-fc54-2e9c72960724"
      },
      "execution_count": null,
      "outputs": [
        {
          "output_type": "execute_result",
          "data": {
            "text/plain": [
              "0.8333333333333334"
            ]
          },
          "metadata": {},
          "execution_count": 93
        }
      ]
    },
    {
      "cell_type": "code",
      "source": [
        "# logistic regression binary classification exercise\n",
        "import pandas as pd\n",
        "from sklearn.linear_model import LogisticRegression\n",
        "import matplotlib.pyplot as plt\n",
        "from sklearn.model_selection import train_test_split\n",
        "\n",
        "df = pd.read_csv('https://raw.githubusercontent.com/codebasics/py/master/ML/7_logistic_reg/Exercise/HR_comma_sep.csv')\n",
        "df.head()\n",
        "# plt.xlabel('satisafction')\n",
        "# plt.ylabel('left')\n",
        "# plt.scatter(df['satisfaction_level'],df.average_montly_hours)\n",
        "# employees left from the company\n",
        "left = df[df.left==1]\n",
        "retention = df[df.left ==0]\n",
        "k = df.groupby('left').mean()\n",
        "#pd.crosstab(df.time_spend_company,df.left).plot(kind='bar')\n",
        "df.head()\n",
        "sub = df[['satisfaction_level','last_evaluation','time_spend_company','promotion_last_5years','salary']]\n",
        "sub.head()\n",
        "s = pd.get_dummies(sub.salary,prefix= 'salary')\n",
        "sub = pd.concat([sub,s], axis = 'columns')\n",
        "sub.head()\n",
        "sub =sub.drop('salary',axis = 'columns')\n",
        "x_train,x_test,y_train,y_test = train_test_split(sub,df.left,test_size = 0.2)\n",
        "regression = LogisticRegression()\n",
        "\n",
        "regression.fit(x_train,y_train)\n",
        "regression.predict(x_test)\n",
        "regression.score(x_test,y_test)\n",
        "\n",
        "\n",
        "#pd.crosstab(df.salary,df.last_evaluation).plot(kind='density')"
      ],
      "metadata": {
        "colab": {
          "base_uri": "https://localhost:8080/"
        },
        "id": "C_N9rcb3y34t",
        "outputId": "c5debf01-120d-408f-e50b-64e7192fbdaa"
      },
      "execution_count": 64,
      "outputs": [
        {
          "output_type": "execute_result",
          "data": {
            "text/plain": [
              "0.7613333333333333"
            ]
          },
          "metadata": {},
          "execution_count": 64
        }
      ]
    },
    {
      "cell_type": "code",
      "source": [
        "#  logistic regression multi class classification\n",
        "import pandas as pd\n",
        "from sklearn.model_selection import train_test_split\n",
        "from sklearn.linear_model import LogisticRegression\n",
        "import matplotlib.pyplot as plt\n",
        "from sklearn.datasets import load_digits\n",
        "df = load_digits()\n",
        "#dir(df)\n",
        "#plt.matshow(df.images[0])\n",
        "x_train, x_test, y_train, y_test = train_test_split(df.data,df.target,test_size = 0.3)\n",
        "regression = LogisticRegression()\n",
        "regression.fit(x_train,y_train)\n",
        "predicted = regression.predict(x_test)\n",
        "regression.score(x_test,y_test)\n",
        "from sklearn.metrics import confusion_matrix\n",
        "cm = confusion_matrix(y_test,predicted)\n",
        "cm\n",
        "import seaborn as sn\n",
        "plt.figure(figsize = (10,7))\n",
        "\n",
        "sn.heatmap(cm,annot = True)\n",
        "plt.xlabel('predict')\n",
        "plt.ylabel('True')\n"
      ],
      "metadata": {
        "id": "myIEdGXq4jjC"
      },
      "execution_count": null,
      "outputs": []
    },
    {
      "cell_type": "code",
      "source": [
        "# logistic regression multi class classification exercise\n",
        "import pandas as pd\n",
        "from sklearn.model_selection import train_test_split\n",
        "from sklearn.linear_model import LogisticRegression\n",
        "import matplotlib.pyplot as plt\n",
        "from sklearn.datasets import load_iris\n",
        "df = load_iris()\n",
        "x_train, x_test, y_train, y_test = train_test_split(df.data,df.target,test_size = 0.3)\n",
        "regression = LogisticRegression()\n",
        "regression.fit(x_train,y_train)\n",
        "predicted = regression.predict(x_test)\n",
        "regression.score(x_test,y_test)\n",
        "from sklearn.metrics import confusion_matrix\n",
        "cm = confusion_matrix(y_test,predicted)\n",
        "cm\n",
        "import seaborn as sn\n",
        "plt.figure(figsize = (10,7))\n",
        "\n",
        "sn.heatmap(cm,annot = True)\n",
        "plt.xlabel('predict')\n",
        "plt.ylabel('True')\n"
      ],
      "metadata": {
        "id": "_Wr9BMIZ4kSp"
      },
      "execution_count": null,
      "outputs": []
    },
    {
      "cell_type": "code",
      "source": [
        ""
      ],
      "metadata": {
        "id": "f-wfADxK_CHT"
      },
      "execution_count": null,
      "outputs": []
    }
  ]
}